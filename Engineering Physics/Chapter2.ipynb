{
 "metadata": {
  "name": "Chapter2"
 },
 "nbformat": 2,
 "nbformat_minor": 0,
 "worksheets": [
  {
   "cells": [
    {
     "cell_type": "heading",
     "level": 1,
     "metadata": {},
     "source": "ULTRASONICS"
    },
    {
     "cell_type": "heading",
     "level": 2,
     "metadata": {},
     "source": "Example 1, Page number 65"
    },
    {
     "cell_type": "code",
     "collapsed": false,
     "input": "#To determine the fundamental frequency of crystal\n\n#importing modules\nimport math\n\n#Variable declaration\nt=0.002;            #thickness of the crystal in metres\nV=5750;             #velocity of sound waves in metres per sec\n\n#Calculation\nnew=(V*(10**-6))/(2*t);\t#fundamental frequency\nnew=math.ceil(new*1000)/1000   #rounding off to 3 decimals\n\n#Result\nprint(\"fundamental frequency of the piezo electric crystal is\",new,\"MHz\");\n",
     "language": "python",
     "metadata": {},
     "outputs": [
      {
       "output_type": "stream",
       "stream": "stdout",
       "text": "('fundamental frequency of the piezo electric crystal is', 1.438, 'MHz')\n"
      }
     ],
     "prompt_number": 3
    },
    {
     "cell_type": "heading",
     "level": 2,
     "metadata": {},
     "source": "Example 2, Page number 65"
    },
    {
     "cell_type": "code",
     "collapsed": false,
     "input": "#To determine the frequency of the fundamental note\n\n#importing modules\nimport math\n\n#Variable declaration\nl=3*(10**-3);           #vibrating length in metres\nY=8*(10**10);       \t#Youngs modulus in N/m^2\nrho=2.5*(10**3);          #density of crystal in kg/cm^3\n\n#Calculation\nnew=(math.sqrt(Y/rho))/(2*l);\t#frequency of the fundamental note\n\n#Result\nprint(\"the frequency of the fundamental note emitted by piezo-electric crystal is\",round(new),\"Hz\");\n#answer in book is wrong\n",
     "language": "python",
     "metadata": {},
     "outputs": [
      {
       "output_type": "stream",
       "stream": "stdout",
       "text": "('the frequency of the fundamental note emitted by piezo-electric crystal is', 942809.0, 'Hz')\n"
      }
     ],
     "prompt_number": 4
    },
    {
     "cell_type": "heading",
     "level": 2,
     "metadata": {},
     "source": "Example 3, Page number 65"
    },
    {
     "cell_type": "code",
     "collapsed": false,
     "input": "#To determine the natural frequency of ultrasonic waves\n\n#importing modules\nimport math\n\n#Variable declaration\nl=5.5*(10**-3);           #thickness of quartz plate in metres\nY=8.0*(10**10);             #youngs modulus of quartz in N/m^2\nrho=2.65*(10**3);           #density in kg/m^3\n\n#Calculation\nnew=(math.sqrt(Y/rho))*(10**-3)/(2*l);\t#natural frequency\n\n#Result\nprint(\"natural frequency of ultrasonic waves is\",round(new),\"KHz\");\n",
     "language": "python",
     "metadata": {},
     "outputs": [
      {
       "output_type": "stream",
       "stream": "stdout",
       "text": "('natural frequency of ultrasonic waves is', 499.0, 'KHz')\n"
      }
     ],
     "prompt_number": 5
    },
    {
     "cell_type": "heading",
     "level": 2,
     "metadata": {},
     "source": "Example 4, Page number 66"
    },
    {
     "cell_type": "code",
     "collapsed": false,
     "input": "#To determine the natural frequency of iron\n\n#importing modules\nimport math\n\n#Variable declaration\nl=40*(10**-3);           #length of pure iron rod in metres\nrho=7.25*(10**3);   \t#density of pure iron in kg/m^3\nY=115*(10**9);              #youngs modulus in N/m^2\n\n#Calculation\nnew=(math.sqrt(Y/rho))*(10**-3)/(2*l);\t#natural frequency\nnew=math.ceil(new*1000)/1000   #rounding off to 3 decimals\n\n#Result\nprint(\"the natural frequency of pure iron is\",new,\"KHz\");\n",
     "language": "python",
     "metadata": {},
     "outputs": [
      {
       "output_type": "stream",
       "stream": "stdout",
       "text": "('the natural frequency of pure iron is', 49.785, 'KHz')\n"
      }
     ],
     "prompt_number": 6
    },
    {
     "cell_type": "heading",
     "level": 2,
     "metadata": {},
     "source": "Example 5, Page number 66"
    },
    {
     "cell_type": "code",
     "collapsed": false,
     "input": "#To determine the capacitance\n\n#importing modules\nimport math\n\n#Variable declaration\nnew=10**6;            #frequency of ultrasonics in Hz\nL=1;                 #Inductance in Henry\n\n#Calculation\nA=4*(math.pi**2)*(new**2)*L;\nC=(10**12)/A;\t#capacitance\nC=math.ceil(C*10000)/10000   #rounding off to 4 decimals\n\n#Result\nprint(\"the capacitance to produce ultrasonic waves is\",C,\"PF\");\n",
     "language": "python",
     "metadata": {},
     "outputs": [
      {
       "output_type": "stream",
       "stream": "stdout",
       "text": "('the capacitance to produce ultrasonic waves is', 0.0254, 'PF')\n"
      }
     ],
     "prompt_number": 7
    },
    {
     "cell_type": "heading",
     "level": 2,
     "metadata": {},
     "source": "Example 6, Page number 67"
    },
    {
     "cell_type": "code",
     "collapsed": false,
     "input": "#To determine the fundamental frequency\n\n#importing modules\nimport math\n\n#Variable declaration\nl=3*(10**-3);          #vibrating length of piezo electric crystal in m\nrho=3.5*(10**3);       #density of piezo electric crystal in kg/m^3\nY=8*(10**10);          #youngs modulus in N/m^2\n\n#Calculation\nnew=((10**-3)*(math.sqrt(Y/rho))*(10**-3))/(2*l);    #fundamental frequency\nnew=math.ceil(new*1000)/1000   #rounding off to 3 decimals\n\n#Result\nprint(\"the fundamental frequency is\",new,\"Hz\");\n",
     "language": "python",
     "metadata": {},
     "outputs": [
      {
       "output_type": "stream",
       "stream": "stdout",
       "text": "('the fundamental frequency is', 0.797, 'Hz')\n"
      }
     ],
     "prompt_number": 10
    },
    {
     "cell_type": "heading",
     "level": 2,
     "metadata": {},
     "source": "Example 7, Page number 67"
    },
    {
     "cell_type": "code",
     "collapsed": false,
     "input": "#To determine the fundamental frequency\n\n#importing modules\nimport math\n\n#Variable declaration\nt=0.001;           #thickness of the crystal in metres\nrho=2650;          #density of quartz in kg/m^3\nY=7.9*(10**10);     #youngs modulus in N/m^2\n\n#Calculation\nV=math.sqrt(Y/rho);\t   #frequency in m/s\n#For fundamental mode of vibration, the thickness must be equal to lamda/2\nlamda=2*t;\nnew=V/lamda;\t#frequency in Hz\n\n#Result\nprint(\"the fundamental frequency is\",round(V),\"m/s\");\nprint(\"the fundamental frequency is\",round(new),\"Hz\");\n",
     "language": "python",
     "metadata": {},
     "outputs": [
      {
       "output_type": "stream",
       "stream": "stdout",
       "text": "('the fundamental frequency is', 5460.0, 'm/s')\n('the fundamental frequency is', 2729987.0, 'Hz')\n"
      }
     ],
     "prompt_number": 11
    },
    {
     "cell_type": "code",
     "collapsed": false,
     "input": "",
     "language": "python",
     "metadata": {},
     "outputs": []
    }
   ],
   "metadata": {}
  }
 ]
}