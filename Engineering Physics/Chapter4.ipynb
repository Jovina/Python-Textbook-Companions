{
 "metadata": {
  "name": "Chapter4"
 },
 "nbformat": 2,
 "nbformat_minor": 0,
 "worksheets": [
  {
   "cells": [
    {
     "cell_type": "heading",
     "level": 1,
     "metadata": {},
     "source": "Magnetic Properties"
    },
    {
     "cell_type": "heading",
     "level": 2,
     "metadata": {},
     "source": "Example 1, Page number 106"
    },
    {
     "cell_type": "code",
     "collapsed": false,
     "input": "#Determining the change in magnetic moment\n\n#Variable declaration\nr=0.052*(10**-9)     #radius of orbit in m\nB=1      \t     #magnetic field of induction in  Web/m^2\ne=1.6*(10**-19)      #electron charge in C\nm=9.1*(10**-31)      #mass of electron in kg\n\n#Calculation\nA=(e**2)*(r**2)*B\ndmew=A/(4*m)         #change in magnetic moment\n\n#Result\nprint(\"change in magnetic moment is\",dmew);\n\n#answer in book is wrong\n",
     "language": "python",
     "metadata": {},
     "outputs": [
      {
       "output_type": "stream",
       "stream": "stdout",
       "text": "('change in magnetic moment is', 1.901714285714286e-29)\n"
      }
     ],
     "prompt_number": 1
    },
    {
     "cell_type": "heading",
     "level": 2,
     "metadata": {},
     "source": "Example 2, Page number 106\n"
    },
    {
     "cell_type": "code",
     "collapsed": false,
     "input": "#Determining intensity of magnetisation and magnetic flux density\n\n#importing modules\nimport math\n\n#Variable declaration\nki=-0.5*(10**-5)           #magnetic susceptibility\nH=9.9*(10**4)     \t     #magnetic field of intensity in Amp/m\nmew0=(4*math.pi*(10**-7))  #mew0 in H/m\n\n#Calculation\nI=ki*H\t\t      #intensity of magnetisation\nI=math.ceil(I*1000)/1000   #rounding off to 3 decimals\nB=mew0*H*(1+ki)       #magnetic flux density\nB=math.ceil(B*1000)/1000   #rounding off to 3 decimals\n\n#Result\nprint(\"intensity of magnetisation is\",I,\"amp/m\")\nprint(\"magnetic flux density is\",B,\"wb/m^2\")\n\n#answer in the book for magnetic flux density i.e value of B is wrong\n",
     "language": "python",
     "metadata": {},
     "outputs": [
      {
       "output_type": "stream",
       "stream": "stdout",
       "text": "('intensity of magnetisation is', -0.495, 'amp/m')\n('magnetic flux density is', 0.125, 'wb/m^2')\n"
      }
     ],
     "prompt_number": 2
    },
    {
     "cell_type": "heading",
     "level": 2,
     "metadata": {},
     "source": "Example 3, Page number 106\n"
    },
    {
     "cell_type": "code",
     "collapsed": false,
     "input": "#Determining relative permeability of a ferromagnetic material\n\n#Variable declaration\nH=220        #magnetic field strength in amp/m\nI=3300\t     #magnetisation in amp/m\n\n#Calculation\nmewr=1+(I/H)      #relative permeability\n\n#Result\nprint(\"relative permeability is\",round(mewr))",
     "language": "python",
     "metadata": {},
     "outputs": [
      {
       "output_type": "stream",
       "stream": "stdout",
       "text": "('relative permeability is', 16.0)\n"
      }
     ],
     "prompt_number": 3
    },
    {
     "cell_type": "heading",
     "level": 2,
     "metadata": {},
     "source": "Example 4, Page number 107\n"
    },
    {
     "cell_type": "code",
     "collapsed": false,
     "input": "#Determining magnetic induction and dipole moment\n\n#importing modules\nimport math\n\n#Variable declaration\nr=6.1*(10**-11)\t       #radius of hydrogen atom in m\nnew=8.8*(10**15)\t  #frequency in revolution per sec\ne=1.6*(10**-19)\t          #electron charge in C\nmew0=(4*math.pi*(10**-7))    #mew0 in H/m\n\n#Calculation\ni=e*new\nB=(mew0*i)/(2*r)\t   #magnetic induction at the centre\nmew=i*math.pi*(r**2)\t   #dipole moment\nB=math.ceil(B*100)/100    #rounding off to 2 decimals\n\n#Result\nprint(\"magnetic induction at the centre is\",B,\"Web/m^2\");\nprint(\"dipole moment is\",mew,\"amp m^2\");\n\n#answer for the value of B in book is wrong",
     "language": "python",
     "metadata": {},
     "outputs": [
      {
       "output_type": "stream",
       "stream": "stdout",
       "text": "('magnetic induction at the centre is', 14.51, 'Web/m^2')\n('dipole moment is', 1.645933169972273e-23, 'amp m^2')\n"
      }
     ],
     "prompt_number": 4
    },
    {
     "cell_type": "heading",
     "level": 2,
     "metadata": {},
     "source": "Example 5, Page number 107\n"
    },
    {
     "cell_type": "code",
     "collapsed": false,
     "input": "#Determining average number of Bohr magnetons\n\n#importing modules\nimport math\n\n#Variable declaration\nIs=1.96*(10**6);         #saturation magnetisation in amp/m\na=3;\t                #cube edge of iron\nA0=3*(10**-10);\t       #A0 in m\nmewB=9.27*(10**-24);    #bohr magneton in amp/m^2\n\n#Calculation\nN=2/(A0**a);\nmewbar=Is/N;\nmewAB=mewbar/mewB;\t#average number of bohr magnetons\nmewAB=math.ceil(mewAB*1000)/1000  #rounding off to 3 decimals\n\n#Result\nprint(\"average number of bohr magnetons is\",mewAB,\"Bohr magneton/atom\");\n",
     "language": "python",
     "metadata": {},
     "outputs": [
      {
       "output_type": "stream",
       "stream": "stdout",
       "text": "('average number of bohr magnetons is', 2.855, 'Bohr magneton/atom')\n"
      }
     ],
     "prompt_number": 5
    },
    {
     "cell_type": "heading",
     "level": 2,
     "metadata": {},
     "source": "Example 6, Page number 108\n"
    },
    {
     "cell_type": "code",
     "collapsed": false,
     "input": "#Determining magnetic force and relative permeability of material\n\n#importing modules\nimport math\n\n#Variable declaration\nI=3000;         #magnetisation in amp/m\nB=0.005;        #flux density in weber/m^2\nmew0=(4*math.pi*(10**-7));        #mew0 in H/m\n\n#Calculation\nH=(B/mew0)-I;\t#magnetizing force\nH=math.ceil(H*100)/100   #rounding off to 2 decimals\nmewr=(I/H)+1;\t#relative permeability\nmewr=math.ceil(mewr*1000)/1000   #rounding off to 3 decimals\n\n#Result\nprint(\"magnetizing force is\",H,\"amp/m\");\nprint(\"relative permeability is\",mewr);\n\n#answer in the book is wrong",
     "language": "python",
     "metadata": {},
     "outputs": [
      {
       "output_type": "stream",
       "stream": "stdout",
       "text": "('magnetizing force is', 978.88, 'amp/m')\n('relative permeability is', 4.065)\n"
      }
     ],
     "prompt_number": 6
    },
    {
     "cell_type": "heading",
     "level": 2,
     "metadata": {},
     "source": "Example 7, Page number 108\n"
    },
    {
     "cell_type": "code",
     "collapsed": false,
     "input": "#Determining the permeability\n\n#importing modules\nimport math\n\n#Variable declaration\nH=1800; \t    #magnetizing field in amp/m\nphi=3*(10**-5);     #magnetic flux in wb\nA=0.2*(10**-4);     #cross-sectional area in m^2;\n\n#Calculation\nB=phi/A;\nmew=B/H;\t#permeability\nmew=math.ceil(mew*100000)/100000   #rounding off to 5 decimals\n\n#Result\nprint(\"permeability is\",mew,\"Henry/m\");\n\n#answer in book is wrong",
     "language": "python",
     "metadata": {},
     "outputs": [
      {
       "output_type": "stream",
       "stream": "stdout",
       "text": "('permeability is', 0.00084, 'Henry/m')\n"
      }
     ],
     "prompt_number": 7
    },
    {
     "cell_type": "heading",
     "level": 2,
     "metadata": {},
     "source": "Example 8, Page number 109\n"
    },
    {
     "cell_type": "code",
     "collapsed": false,
     "input": "#Determining the magnetic dipole moment and torque\n\n#importing modules\nimport math\n\n#Variable declaration\nr=0.04;       #radius of circular loop in m\ni=1;          #current in A\nB=10**-3;         #magnetic flux density in Wb/m^2\ntheta=math.pi/4;      #angle in degrees\n\n#Calculation\nA=math.pi*(r**2);\nmew=i*A;\t\t#magnetic dipole moment\nmew=math.ceil(mew*10000)/10000   #rounding off to 4 decimals\ntow=i*B*math.cos(theta);\t#torque on the coil\ntow=math.ceil(tow*100000)/100000   #rounding off to 5 decimals\n\n#Result\nprint(\"magnetic dipole moment is\",mew,\"amp m^2\");\nprint(\"torque on the coil is\",tow,\"Nm\");\n",
     "language": "python",
     "metadata": {},
     "outputs": [
      {
       "output_type": "stream",
       "stream": "stdout",
       "text": "('magnetic dipole moment is', 0.0051, 'amp m^2')\n('torque on the coil is', 0.00071, 'Nm')\n"
      }
     ],
     "prompt_number": 9
    },
    {
     "cell_type": "heading",
     "level": 2,
     "metadata": {},
     "source": "Example 9, Page number 109\n"
    },
    {
     "cell_type": "code",
     "collapsed": false,
     "input": "#Determining the the hysteresis loss per cycle\n\n#Variable declaration\nA=100;         #area of hysteresis loop in m^2\nB=0.01;        #flux density in Wb/m^2\nH=40;          #magnetic field in amp/m\nM=7650;        #atomic weight in kg/m^3\n\n#Calculation\nL=A*B*H;\t#hysteresis loss per cycle\n\n#Result\nprint(\"hysteresis loss per cycle is\",round(L),\"J/m^3\");\n",
     "language": "python",
     "metadata": {},
     "outputs": [
      {
       "output_type": "stream",
       "stream": "stdout",
       "text": "('hysteresis loss per cycle is', 40.0, 'J/m^3')\n"
      }
     ],
     "prompt_number": 10
    },
    {
     "cell_type": "heading",
     "level": 2,
     "metadata": {},
     "source": "Example 10, Page number 110\n"
    },
    {
     "cell_type": "code",
     "collapsed": false,
     "input": "#Determining the hysteresis power loss\n\n#importing modules\nimport math\n\n#Variable declaration\nHC=200;          #hysteresis loss per cycle in J/m^3\nA=7650;          #atomic weight in kg/m^3\nM=100;           #magnetisation cycles per sec\n\n#Calculation\nL=HC*M;\t  #hysteresis power loss\nP=L/A;      #power loss\nP=math.ceil(P*10000)/10000   #rounding off to 4 decimals\n\n#Result\nprint(\"hysteresis power loss per second is\",round(L),\"watt/m3\");\nprint(\"power loss is\",P,\"watt/kg\");\n",
     "language": "python",
     "metadata": {},
     "outputs": [
      {
       "output_type": "stream",
       "stream": "stdout",
       "text": "('hysteresis power loss per second is', 20000.0, 'watt/m3')\n('power loss is', 2.0, 'watt/kg')\n"
      }
     ],
     "prompt_number": 11
    },
    {
     "cell_type": "code",
     "collapsed": false,
     "input": "",
     "language": "python",
     "metadata": {},
     "outputs": []
    }
   ],
   "metadata": {}
  }
 ]
}