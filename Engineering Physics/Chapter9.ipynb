{
 "metadata": {
  "name": "Chapter9"
 },
 "nbformat": 2,
 "nbformat_minor": 0,
 "worksheets": [
  {
   "cells": [
    {
     "cell_type": "heading",
     "level": 1,
     "metadata": {},
     "source": "Dielectrics"
    },
    {
     "cell_type": "heading",
     "level": 2,
     "metadata": {},
     "source": "Example number 1, Page number 254"
    },
    {
     "cell_type": "code",
     "collapsed": false,
     "input": "#To determine the electronic polarisability\n\n#Variable declaration\nepsilonr=3.75;        #relative dielectric constant\nT=27;               #temperature in C\ngama=1/3;           #internal field constant\nrho=2050;           #density of sulphur in kg/m^3\nMa=32;              #atomic weight of sulphur in a.m.u\nepsilon0=8.85*(10**-12);\nNa=6.022*(10**23);\n\n#Calculation\nA=(epsilonr-1)/(epsilonr+2);\nalphae=(A*3*epsilon0*Ma)/(rho*Na);  #electronic polarisability\n\n#Result\nprint(\"electronic polarisability of sulphur is\",alphae,\"Fm^2\");\n",
     "language": "python",
     "metadata": {},
     "outputs": [
      {
       "output_type": "stream",
       "stream": "stdout",
       "text": "('electronic polarisability of sulphur is', 3.2914308898478643e-37, 'Fm^2')\n"
      }
     ],
     "prompt_number": 1
    },
    {
     "cell_type": "heading",
     "level": 2,
     "metadata": {},
     "source": "Example number 2, Page number 254\n"
    },
    {
     "cell_type": "code",
     "collapsed": false,
     "input": "#To determine the capacitance and charge on the plates\n\n#Variable declaration\nA=10**-2;            #area of capacitor m^2\nd=10**-2;            #seperation of capacitor plates in m\nV=100;              #potential in V\nepsilon0=8.85*(10**-12);\n\n#Calculation\nC=(A*epsilon0)/d;\nC1=C*(10**12);          #converting into PF\nQ=C*V;\n\n#Result\nprint(\"capacitance of the capacitor is\",C1,\"PF\");\nprint(\"charge on plates is\",Q,\"C\");\n",
     "language": "python",
     "metadata": {},
     "outputs": [
      {
       "output_type": "stream",
       "stream": "stdout",
       "text": "('capacitance of the capacitor is', 8.85, 'PF')\n('charge on plates is', 8.849999999999998e-10, 'C')\n"
      }
     ],
     "prompt_number": 2
    },
    {
     "cell_type": "heading",
     "level": 2,
     "metadata": {},
     "source": "Example number 3, Page number 255\n"
    },
    {
     "cell_type": "code",
     "collapsed": false,
     "input": "#To determine the electronic polarisability of He atoms\n\n#Variable declaration\nepsilonr=1.0000684;       #dielectric constant\nN=2.7*(10**25);              #number of atoms per unit volume\nepsilon0=8.85*(10**-12);\n\n#Calculation\nalphae=(epsilon0*(epsilonr-1))/N;   #electronic polarizability\n\n#Result\nprint(\"electronic polarizability is\",alphae,\"Fm^2\");\n",
     "language": "python",
     "metadata": {},
     "outputs": [
      {
       "output_type": "stream",
       "stream": "stdout",
       "text": "('electronic polarizability is', 2.2419999999989663e-41, 'Fm^2')\n"
      }
     ],
     "prompt_number": 3
    },
    {
     "cell_type": "heading",
     "level": 2,
     "metadata": {},
     "source": "Example number 4, Page number 255\n"
    },
    {
     "cell_type": "code",
     "collapsed": false,
     "input": "#To determine dielectric constant of the material\n\n#importing modules\nimport math\n\n#Variable declaration\nN=3*(10**28);          #density of atoms in atoms/m^3\nalphae=10**-40;      #electronic constant polarizability in Fm^2\nepsilon0=8.85*(10**-12);\n\n#Calculation\n#consider A=(epsilonr-1)/(epsilonr+2)\nA=(N*alphae)/(3*epsilon0);\nepsilonr=((2*A)+1)/(1-A);   #dielectric constant\nepsilonr=math.ceil(epsilonr*100)/100   #rounding off to 2 decimals\n\n#Result\nprint(\"dielectric constant of the material is\",epsilonr,\"F/m\");\n\n#answer in book is wrong\n",
     "language": "python",
     "metadata": {},
     "outputs": [
      {
       "output_type": "stream",
       "stream": "stdout",
       "text": "('dielectric constant of the material is', 1.39, 'F/m')\n"
      }
     ],
     "prompt_number": 5
    },
    {
     "cell_type": "heading",
     "level": 2,
     "metadata": {},
     "source": "Example number 5, Page number 255\n"
    },
    {
     "cell_type": "code",
     "collapsed": false,
     "input": "#To determine resultant voltage across the capacitor\n\n#importing modules\nimport math\n\n#Variable declaration\nA=650*(10**-4);        #area of capacitor plate in m^2\nd=4*(10**-2);          #seperation of parallel plate capacitor in m\nQ=2*(10**-10);         #charge on capacitor in C\nepsilonr=3.5;       #dielectric constant of material\nepsilon0=8.85*(10**-12);\n\n#Calculation\nC=(A*epsilon0)/d;\nV=Q/C;   #resultant voltage\nV=math.ceil(V*100)/100   #rounding off to 2 decimals\n\n#Result\nprint(\"resultant voltage across capacitor is\",V,\"V\");\n",
     "language": "python",
     "metadata": {},
     "outputs": [
      {
       "output_type": "stream",
       "stream": "stdout",
       "text": "('resultant voltage across capacitor is', 13.91, 'V')\n"
      }
     ],
     "prompt_number": 6
    },
    {
     "cell_type": "heading",
     "level": 2,
     "metadata": {},
     "source": "Example number 6, Page number 256\n"
    },
    {
     "cell_type": "code",
     "collapsed": false,
     "input": "#To compute the polarisation\n\n#Variable declaration\nA=6.45*(10**-4);         #area of capacitor plates in m^2\nd=2*(10**-3);            #capacitor plates seperation in m\nV=12;                 #potential in V\nepsilonr=5.0;         #dielectric constant\nN=6.023*(10**23);        #avagadro number in mol inverse\nepsilon0=8.85*(10**-12);\n\n#Calculation\nalphae=(epsilon0*(epsilonr-1))/N;\n\n#Result\nprint(\"polarisation is\",alphae,\"Fm^2\");\n\n#answer in book is wrong\n",
     "language": "python",
     "metadata": {},
     "outputs": [
      {
       "output_type": "stream",
       "stream": "stdout",
       "text": "('polarisation is', 5.877469699485306e-35, 'Fm^2')\n"
      }
     ],
     "prompt_number": 7
    },
    {
     "cell_type": "heading",
     "level": 2,
     "metadata": {},
     "source": "Example number 7, Page number 256\n"
    },
    {
     "cell_type": "code",
     "collapsed": false,
     "input": "#To determine the displacement when He atom is subjected to a field\n\n#importing modules\nimport math\nimport numpy as np\n\n#Variable declaration\nepsilonr=1.0000684;         #dielectric constant\nNa=2.7*(10**25);       #density of atoms in atoms/m^3\nE=10**6;          #electric field in V/m\ne=1.6*(10**-19);\nZ=2;             #atomic number\n#A is 1/(4*math.pi*epsilon0)\nA=np.reciprocal(9000000000.)     #A=1/(9*(10**9));  \n\n#Calculation\nr03=(epsilonr-1)/(4*math.pi*Na);\na=np.reciprocal(3.)\nr0=(r03)**(a);\n#displacement(X)=(4*pi*epsilon0*E*r03)/(Z*e)\n#but 4*pi*epsilon0=1/(9*10^9). Let A=4*pi*epsilon0\nX=(A*E*r03)/(Z*e);\n\n#Result\nprint(\"radius of electron cloud is\",r0);\nprint(\"displacement when He atom is subjected to a field is\",X,\"m\");\n",
     "language": "python",
     "metadata": {},
     "outputs": [
      {
       "output_type": "stream",
       "stream": "stdout",
       "text": "('radius of electron cloud is', 5.8635525877775346e-11)\n('displacement when He atom is subjected to a field is', 6.9998701822792054e-17, 'm')\n"
      }
     ],
     "prompt_number": 8
    },
    {
     "cell_type": "heading",
     "level": 2,
     "metadata": {},
     "source": "Example number 8, Page number 257\n"
    },
    {
     "cell_type": "code",
     "collapsed": false,
     "input": "#To determine the atomic polarizability\n\n#importing modules\nfrom __future__ import division\n\n#Variable declaration\nepsilonr=4;        #relative permeability\nepsilon0=8.85*(10**-12);\nN=2.08*(10**3);       #density of atoms in kg/m^3\nMa=32;             #atomic weight in a.m.u\n\n#Calculation\nA=(epsilonr-1)/(epsilonr+2);\nalpha=(A*3*epsilon0)/N;   #atomic polarizability\n\n#Result\nprint(\"atomic polarizability is\",alpha,\"Fm^2\");\n\n#answer in book is wrong\n",
     "language": "python",
     "metadata": {},
     "outputs": [
      {
       "output_type": "stream",
       "stream": "stdout",
       "text": "('atomic polarizability is', 6.382211538461537e-15, 'Fm^2')\n"
      }
     ],
     "prompt_number": 9
    },
    {
     "cell_type": "heading",
     "level": 2,
     "metadata": {},
     "source": "Example number 9, Page number 258\n"
    },
    {
     "cell_type": "code",
     "collapsed": false,
     "input": "#To determine energy stored in the condenser\n\n#importing modules\nimport numpy as np\nfrom __future__ import division\n\n#Variable declaration\nC=4*(10**-6);         #capacitance of condenser in F\nepsilonr=200;      #relative permeability\nV=2000;            #applied voltage in V\n\n#Calculation\nC0=C/epsilonr;\nE=np.reciprocal(2.)*C0*(V);\n\n#Result\nprint(\"energy stored is\",E,\"Joule\")\n\n#answer in book is wrong\n",
     "language": "python",
     "metadata": {},
     "outputs": [
      {
       "output_type": "stream",
       "stream": "stdout",
       "text": "('energy stored is', 2.0000000000000002e-05, 'Joule')\n"
      }
     ],
     "prompt_number": 10
    },
    {
     "cell_type": "heading",
     "level": 2,
     "metadata": {},
     "source": "Example number 10, Page number 258\n"
    },
    {
     "cell_type": "code",
     "collapsed": false,
     "input": "#To determine the polarisability of He and its relative permittivity\n\n#importing modules\nimport math\n\n#Variable declaration\nR=0.55*(10**-10);        #radius of He atom in m\nN=2.7*(10**25);          #density in atoms/m^3;\nepsilon0=8.85*(10**-12);\n\n#Calculation\nalphae=4*math.pi*epsilon0*(R**3);\nepsilonr=((N*alphae)/epsilon0)+1;\nepsilonr=math.ceil(epsilonr*1000000)/1000000   #rounding off to 6 decimals\n\n#Result\nprint(\"polarisability is\",alphae,\"Fm^2\");\nprint(\"relative permittivity is\",epsilonr,\"Fm^2\");\n",
     "language": "python",
     "metadata": {},
     "outputs": [
      {
       "output_type": "stream",
       "stream": "stdout",
       "text": "('polarisability is', 1.8502959712031467e-41, 'Fm^2')\n('relative permittivity is', 1.000057, 'Fm^2')\n"
      }
     ],
     "prompt_number": 11
    },
    {
     "cell_type": "heading",
     "level": 2,
     "metadata": {},
     "source": "Example number 11, Page number 259\n"
    },
    {
     "cell_type": "code",
     "collapsed": false,
     "input": "#To determine field strength and total dipole moment\n\n#importing modules\nimport math\n\n#Variable declaration\nA=180*(10**-4);         #area of capacitor in m\nC=3*(10**-6);           #capacitance in F\nepsilonr=8;          #relative permittivity\nV=10;                #potential in V\nepsilon0=8.85*(10**-12);\n\n#Calculation\nE=(V*C)/(epsilon0*epsilonr);\nE1=math.ceil(E*100)/100   #rounding off to 2 decimals\nT=epsilon0*(epsilonr-1)*E*A;\n\n#Result\nprint(\"field strength is\",E1,\"V/m\");\nprint(\"total dipole moment is\",T,\"Coul m\");\n\n#answers for both the bits given in the book is wrong\n",
     "language": "python",
     "metadata": {},
     "outputs": [
      {
       "output_type": "stream",
       "stream": "stdout",
       "text": "('field strength is', 423728.82, 'V/m')\n('total dipole moment is', 4.725000000000001e-07, 'Coul m')\n"
      }
     ],
     "prompt_number": 12
    },
    {
     "cell_type": "code",
     "collapsed": false,
     "input": "",
     "language": "python",
     "metadata": {},
     "outputs": []
    }
   ],
   "metadata": {}
  }
 ]
}