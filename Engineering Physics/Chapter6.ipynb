{
 "metadata": {
  "name": "Chapter6"
 },
 "nbformat": 2,
 "nbformat_minor": 0,
 "worksheets": [
  {
   "cells": [
    {
     "cell_type": "heading",
     "level": 1,
     "metadata": {},
     "source": "Crystal structure and X-ray Diffraction"
    },
    {
     "cell_type": "heading",
     "level": 2,
     "metadata": {},
     "source": "Example number 1, Page number 163"
    },
    {
     "cell_type": "code",
     "collapsed": false,
     "input": "#To determine density\n\n#Variable declaration\nn=8;                #number of atoms per unit cell\na=5.6*(10**-10);       #lattice constant in m\nM=710.59;           #atomic weight of Germanium in a.m.u\nN=6.02*(10**26);       #avagadro number in kg/mol\n\n#Calculation\nrho=(n*M)/(N*(a**3));\n\n#Result\nprint(\"density is\",round(rho),\"kg/m^3\");\n",
     "language": "python",
     "metadata": {},
     "outputs": [
      {
       "output_type": "stream",
       "stream": "stdout",
       "text": "('density is', 53771.0, 'kg/m^3')\n"
      }
     ],
     "prompt_number": 3
    },
    {
     "cell_type": "heading",
     "level": 2,
     "metadata": {},
     "source": "Example number 2, Page number 163"
    },
    {
     "cell_type": "code",
     "collapsed": false,
     "input": "#To determine the lattice constant\n\n#importing modules\nimport math\nimport numpy as np\n\n#Variable declaration\nn=2;                #number of atoms per unit cell\nM=55.85;           #atomic weight in a.m.u\nN=6.02*(10**26);      #avagadro number in kg/mol\nrho=7860;          #density in kg/m^3;\n\n#Calculation\nb=np.reciprocal(3.)\na=((n*M)/(N*rho))**(b);   #lattice constant\na=a*(10**10);     #converting to armstrong\na=math.ceil(a*100)/100   #rounding off to 2 decimals\n\n#Result\nprint(\"lattice constant\",a,\"Armstrong\");\n\n#answer given in the book is wrong",
     "language": "python",
     "metadata": {},
     "outputs": [
      {
       "output_type": "stream",
       "stream": "stdout",
       "text": "('lattice constant', 2.87, 'Armstrong')\n"
      }
     ],
     "prompt_number": 4
    },
    {
     "cell_type": "heading",
     "level": 2,
     "metadata": {},
     "source": "Example number 3, Page number 163"
    },
    {
     "cell_type": "code",
     "collapsed": false,
     "input": "#To determine the lattice constant\n\n#importing modules\nimport math\nimport numpy as np\n\n#Variable declaration\nn=2;                #number of atoms per unit cell\nM=6.94;           #atomic weight in a.m.u\nN=6.02*(10**26);      #avagadro number in kg/mol\nrho=530;          #density in kg/m^3;\n\n#Calculation\nb=np.reciprocal(3.)\na0=((n*M)/(N*rho))**(b);\na=a0*(10**10);    #converting to armstrong\na=math.ceil(a*1000)/1000   #rounding off to 3 decimals\n\n#Result\nprint(\"lattice constant is\",a,\"Armstrong\");\n",
     "language": "python",
     "metadata": {},
     "outputs": [
      {
       "output_type": "stream",
       "stream": "stdout",
       "text": "('lattice constant is', 3.518, 'Armstrong')\n"
      }
     ],
     "prompt_number": 6
    },
    {
     "cell_type": "heading",
     "level": 2,
     "metadata": {},
     "source": "Example number 4, Page number 164"
    },
    {
     "cell_type": "code",
     "collapsed": false,
     "input": "#To calculate the number of atoms per unit cell\n\n#Variable declaration\na=2.9*(10**-10);      #lattice parameter in m\nM=55.85;           #molecular weight in kg/m^3\nN=6.02*(10**26);      #avagadro number in kg/mol\nrho=7870;          #density in kg/m^3;\n\n#Calculation\nn=(rho*N*(a**3))/M;\n\n#Result\nprint(\"number of atoms is\",round(n));",
     "language": "python",
     "metadata": {},
     "outputs": [
      {
       "output_type": "stream",
       "stream": "stdout",
       "text": "('number of atoms is', 2.0)\n"
      }
     ],
     "prompt_number": 8
    },
    {
     "cell_type": "heading",
     "level": 2,
     "metadata": {},
     "source": "Example number 5, Page number 164"
    },
    {
     "cell_type": "code",
     "collapsed": false,
     "input": "#To calculate the density\n\n#importing modules\nimport math\n\n#Variable declaration\nr=0.1278*(10**-9);     #atomic radius in m\nn=4;                #number of atoms per unit volume\nM=63.5;           #atomic weight in a.m.u\nN=6.02*(10**26);      #avagadro number in kg/mol\n\n#Calculation\na=math.sqrt(8)*r;\nrho=(n*M)/(N*(a**3));\nrho=math.ceil(rho*100)/100   #rounding off to 2 decimals\n\n#Result\nprint(\"density is\",rho,\"kg/m^3\");\n\n#answer in book is wrong\n",
     "language": "python",
     "metadata": {},
     "outputs": [
      {
       "output_type": "stream",
       "stream": "stdout",
       "text": "('density is', 8933.26, 'kg/m^3')\n"
      }
     ],
     "prompt_number": 10
    },
    {
     "cell_type": "heading",
     "level": 2,
     "metadata": {},
     "source": "Example number 6, Page number 165"
    },
    {
     "cell_type": "code",
     "collapsed": false,
     "input": "#To calculate the percentage of volume change\n\n#importing modules\nimport math\n\n#Variable declaration\nT=910;         #temperature in C\nr1=1.258;      #initial atomic radius in Armstrong\nr2=1.292;      #latter atomic radius in Armstrong\na1=(4*r1)/math.sqrt(3);    #lattice constant in BCC structure\nVu1=a1**3;    #volume of unit cell of BCC\nn1=2;\nn2=4;\n\n#Calculation\nV1=Vu1/n1;\na2=2*math.sqrt(2)*r2;    #lattice constant in FCC structure\nVu2=a2**3;    #volume of unit cell of FCC\nV2=Vu2/n2;\nPV=(V1-V2)*100/V2;\nPV=math.ceil(PV*10)/10   #rounding off to 1 decimals\n\n#Result\nprint(\"percentage volume change is\",PV)",
     "language": "python",
     "metadata": {},
     "outputs": [
      {
       "output_type": "stream",
       "stream": "stdout",
       "text": "('percentage volume change is', 0.5)\n"
      }
     ],
     "prompt_number": 12
    },
    {
     "cell_type": "heading",
     "level": 2,
     "metadata": {},
     "source": "Example number 7, Page number 165"
    },
    {
     "cell_type": "code",
     "collapsed": false,
     "input": "#To calculate the maximum radius of sphere\n\n\n#To calculate the maximum radius of sphere\n#for FCC structure a=(4*r)/sqrt(2)\n#R=(a/2)-r\n#hence R=0.414*r on simplification",
     "language": "python",
     "metadata": {},
     "outputs": [],
     "prompt_number": 13
    },
    {
     "cell_type": "heading",
     "level": 2,
     "metadata": {},
     "source": "Example number 8, Page number 166"
    },
    {
     "cell_type": "code",
     "collapsed": false,
     "input": "#To calculate the distance between two adjacent atoms\n\n#importing modules\nimport math\nimport numpy as np\n\n#Variable declaration\nMW=23+35.5;     #Molecular weight of NaCl\nN=6.023*(10**23);\nm=2.18;        #mass of unit volume of NaCl in gm\nV=1;          #volume of unit cube in cm^3\n\n#Calculation\nM=MW/N;        #mass of NaCl molecule in gm\nNm=m/M;\nNa=2*Nm;       #number of atoms per unit volume\n#V=n^3*a^3\n#n^3=Na\nb=np.reciprocal(3.)\na=(1/Na)**(b);\na=a*(10**8)    #converting to armstrong\na=math.ceil(a*1000)/1000   #rounding off to 3 decimals\n\n#Result\nprint(\"distance between two adjacent atoms is\",a,\"armstrong\")",
     "language": "python",
     "metadata": {},
     "outputs": [
      {
       "output_type": "stream",
       "stream": "stdout",
       "text": "('distance between two adjacent atoms is', 2.814, 'armstrong')\n"
      }
     ],
     "prompt_number": 15
    },
    {
     "cell_type": "heading",
     "level": 2,
     "metadata": {},
     "source": "Example number 9, Page number 167"
    },
    {
     "cell_type": "code",
     "collapsed": false,
     "input": "#To calculate the wavelength of X-rays and maximum order of diffraction\n\n#importing modules\nimport math\n\n#Variable declaration\nd=0.282*(10**-9);          #lattice spacing in m\ntheeta1=8.58333;     #glancing angle in degrees\ntheta1=theeta1*0.0174532925    #converting degrees to radians\nn1=1;\ntheta=math.pi/2;          #bragg's angle for maximum order of diffraction\n\n#Calculation\nlamda=(2*d*math.sin(theta1))/n1;\nn=(2*d*math.sin(theta))/lamda;\n\n#Result\nprint(\"wavelength is\",lamda,\"armstrong\");\nprint(\"maximum order of diffraction possible is\",round(n));\n\n#answer for wavelength given in the book is wrong\n",
     "language": "python",
     "metadata": {},
     "outputs": [
      {
       "output_type": "stream",
       "stream": "stdout",
       "text": "('wavelength is', 8.417568128533623e-11, 'armstrong')\n('maximum order of diffraction possible is', 7.0)\n"
      }
     ],
     "prompt_number": 16
    },
    {
     "cell_type": "heading",
     "level": 2,
     "metadata": {},
     "source": "Example number 10, Page number 167"
    },
    {
     "cell_type": "code",
     "collapsed": false,
     "input": "#To calculate the angle at which third order reflection can occur\n\n#importing modules\nimport math\n\n#Variable declaration\nn=3;      #diffraction order\nlamda=0.79*(10**-10);      #wavelength in m\nd=3.04*(10**-10);          #spacing in m\n\n#Calculation\ntheta=math.asin((n*lamda)/(2*d));\ntheta=theta*57.2957795    #converting radians to degrees\ntheta=math.ceil(theta*1000)/1000   #rounding off to 3 decimals\n\n#Result\nprint(\"braggs angle is\",theta,\"degrees\");",
     "language": "python",
     "metadata": {},
     "outputs": [
      {
       "output_type": "stream",
       "stream": "stdout",
       "text": "('braggs angle is', 22.943, 'degrees')\n"
      }
     ],
     "prompt_number": 17
    },
    {
     "cell_type": "heading",
     "level": 2,
     "metadata": {},
     "source": "Example number 11, Page number 168"
    },
    {
     "cell_type": "code",
     "collapsed": false,
     "input": "#To calculate the glancing angle\n\n#importing modules\nimport math\n\n#Variable declaration\nlamda=0.071*(10**-9);        #wavelength in m\n#miller indices of diffraction plane\nh=1;\nk=1;\nl=0;\na=0.28*(10**-9);         #lattice constant in m\nn=2;\n\n#Calculation\nd=a/math.sqrt((h**2)+(k**2)+(l**2));\ntheta=math.asin((n*lamda)/(2*d));\ntheta=theta*57.2957795    #converting radians to degrees\ntheta=math.ceil(theta*1000)/1000   #rounding off to 3 decimals\n\n#Result\nprint(\"glancing angle is\",theta,\"degrees\");",
     "language": "python",
     "metadata": {},
     "outputs": [
      {
       "output_type": "stream",
       "stream": "stdout",
       "text": "('glancing angle is', 21.015, 'degrees')\n"
      }
     ],
     "prompt_number": 18
    },
    {
     "cell_type": "heading",
     "level": 2,
     "metadata": {},
     "source": "Example number 12, Page number 168"
    },
    {
     "cell_type": "code",
     "collapsed": false,
     "input": "#To calculate the space of the reflecting plane and volume\n\n#importing modules\nimport math\n\n#Variable declaration\nlamda=3*(10**-10);      #wavelength in m\nh=1;\nk=0;\nl=0;\ntheeta=40;          #glancing angle in degrees\ntheta=theeta*0.0174532925;      #converting degrees to radians\nn=1;             #diffraction order\n\n#Calculation\nd=(n*lamda)/(2*math.sin(theta));\nx=math.sqrt(h**2+k**2+l**2);\na=d*x;\nV=a**3;\n\n#Result\nprint(\"space of the reflecting plane is\",d,\"m\");\nprint(\"volume of unit cell is\",V,\"m^3\");\n",
     "language": "python",
     "metadata": {},
     "outputs": [
      {
       "output_type": "stream",
       "stream": "stdout",
       "text": "('space of the reflecting plane is', 2.333585742509158e-10, 'm')\n('volume of unit cell is', 1.2707826832897666e-29, 'm^3')\n"
      }
     ],
     "prompt_number": 19
    },
    {
     "cell_type": "heading",
     "level": 2,
     "metadata": {},
     "source": "Example number 13, Page number 169"
    },
    {
     "cell_type": "code",
     "collapsed": false,
     "input": "#To calculate miller indices of reflecting planes\n\n#importing modules\nimport math\n\n#Variable declaration\nlamda=0.82;       #wavelength in Angstrom\ntheeta=75.86;              #glancing angle in degrees\ntheta=theeta*0.0174532925;      #converting degrees to radians\nn=1;        #diffraction order\na=3;        #lattice constant in Angstrom\n\n#Calculation\nd=(n*lamda)/(2*math.sin(theta));\nd=math.ceil(d*1000)/1000   #rounding off to 3 decimals\n\n#Result\nprint(d)\n#but d!=a\n#answer in book is wrong",
     "language": "python",
     "metadata": {},
     "outputs": [
      {
       "output_type": "stream",
       "stream": "stdout",
       "text": "0.423\n"
      }
     ],
     "prompt_number": 20
    },
    {
     "cell_type": "heading",
     "level": 2,
     "metadata": {},
     "source": "Example number 14, Page number 169"
    },
    {
     "cell_type": "code",
     "collapsed": false,
     "input": "#To calculate the inter planar spacing of reflection planes\n\n#importing modules\nimport math\n\n#Variable declaration\nKE=3.76*(10**-17);         #kinetic energy of electron in J\nn=1;\n#theta=9.12'.25\"\ntheta=9.20694;         #by converting to degrees\ntheeta=theta*0.0174532925    #converting degrees to radians\nh=6.625*(10**-34);\nm=9.1*(10**-31);\n\n#Calculation\na=math.sqrt(2*m*KE);\nlamda=h/a;\nlamda=lamda*(10**10);     #converting from metres to angstrom\nd=(n*lamda)/(2*math.sin(theeta));\nd=math.ceil(d*100)/100   #rounding off to 2 decimals\n\n#Result\nprint(\"inter planar spacing is\",d,\"Angstrom\");\n",
     "language": "python",
     "metadata": {},
     "outputs": [
      {
       "output_type": "stream",
       "stream": "stdout",
       "text": "('inter planar spacing is', 2.51, 'Angstrom')\n"
      }
     ],
     "prompt_number": 23
    },
    {
     "cell_type": "heading",
     "level": 2,
     "metadata": {},
     "source": "Example number 15, Page number 170"
    },
    {
     "cell_type": "code",
     "collapsed": false,
     "input": "#To calculate the wavelength and energy of X-ray beam\n\n#importing modules\nimport math\n\n#Variable declaration\ntheta=27.5;      #diffraction angle in degrees\ntheeta=theta*0.0174532925    #converting degrees to radians\nn=1;           #diffracted order\nh=1;\nk=1;\nl=1;\nH=6.625*(10**-34);      #plancks constant\nc=3*(10**10);           #velocity of light\na=5.63*(10**-10);         #lattice constant in m\n\n#Calculation\nd=a/(math.sqrt(h**2+k**2+l**2));\nlammda=(2*d*math.sin(theeta))/n;\nlamda=lammda*(10**10);          #converting into armstrong\nE=(H*c)/lamda;\nE=E/(1.6*(10**-19));         #converting from J to eV\n\n#Result\nprint(\"wavelength is\",round(lamda),\"armstrong\");\nprint(\"energy of X-ray beam is\",E,\"eV\");\n\n#answer for energy of X-ray beam given in book is wrong",
     "language": "python",
     "metadata": {},
     "outputs": [
      {
       "output_type": "stream",
       "stream": "stdout",
       "text": "('wavelength is', 3.0, 'armstrong')\n('energy of X-ray beam is', 4.13812678130579e-05, 'eV')\n"
      }
     ],
     "prompt_number": 24
    },
    {
     "cell_type": "heading",
     "level": 2,
     "metadata": {},
     "source": "Example number 16, Page number 171"
    },
    {
     "cell_type": "code",
     "collapsed": false,
     "input": "#To calculate the spacing of the crystal\n\n#importing modules\nimport math\n\n#Variable declaration\nV=854;        #accelerated voltage in V\ntheeta=56;       #glancing angle in degrees\ntheta=theeta*0.0174532925    #converting degrees to radians\nn=1;\nh=6.625*(10**-34);\nm=9.1*(10**-31);\ne=1.6*(10**-19);\n\n#Calculation\nlamda=h/(math.sqrt(2*m*e*V));\nd=(n*lamda)/(2*math.sin(theta));\n\n#Result\nprint(\"spacing of crystal is\",d,\"metres\");\n",
     "language": "python",
     "metadata": {},
     "outputs": [
      {
       "output_type": "stream",
       "stream": "stdout",
       "text": "('spacing of crystal is', 2.533710861062431e-11, 'metres')\n"
      }
     ],
     "prompt_number": 25
    },
    {
     "cell_type": "heading",
     "level": 2,
     "metadata": {},
     "source": "Example number 17, Page number 171"
    },
    {
     "cell_type": "code",
     "collapsed": false,
     "input": "#To calculate the lattice parameter of lead\n\n#importing modules\nimport math\n\n#Variable declaration\nlamda=1.5*(10**-10);\nh=2;\nk=0;\nl=2;\ntheeta=34;     #bragg angle in degrees\ntheta=theeta*0.0174532925    #converting degrees to radians\nn=1;\n\n#Calculation\nd=(n*lamda)/(2*math.sin(theta));\na=d*(math.sqrt(h**2+k**2+l**2));\na=a*(10**10);      #converting from metres into angstrom\na=math.ceil(a*1000)/1000   #rounding off to 3 decimals\n\n#Result\nprint(\"lattice parameter is\",a,\"angstrom\");\n\n#answer in the book is wrong",
     "language": "python",
     "metadata": {},
     "outputs": [
      {
       "output_type": "stream",
       "stream": "stdout",
       "text": "('lattice parameter is', 3.794, 'angstrom')\n"
      }
     ],
     "prompt_number": 26
    },
    {
     "cell_type": "heading",
     "level": 2,
     "metadata": {},
     "source": "Example number 18, Page number 172"
    },
    {
     "cell_type": "code",
     "collapsed": false,
     "input": "#To calculate braggs angle for first order of reflection\n\n#importing modules\nimport math\n\n#Variable declaration\nV=5000;        #potential difference in V\nn=1;\nh=1;\nk=1;\nl=1;\nd=0.204*(10**-9);     #inter planar spacing in m\nH=6.625*(10**-34);     #plancks constant in J\nm=9.1*(10**-31);\ne=1.6*(10**-19);\n\n#Calculation\nlamda=H/(math.sqrt(2*m*e*V));\na=(n*lamda)/(2*d);\ntheta=math.asin(a);\ntheeta=theta*57.2957795;      #converting radians to degrees\ntheeta=math.ceil(theeta*1000)/1000   #rounding off to 3 decimals\n\n#Result\nprint(\"bragg angle is\",theeta,\"degrees\");\n",
     "language": "python",
     "metadata": {},
     "outputs": [
      {
       "output_type": "stream",
       "stream": "stdout",
       "text": "('bragg angle is', 2.439, 'degrees')\n"
      }
     ],
     "prompt_number": 27
    },
    {
     "cell_type": "code",
     "collapsed": false,
     "input": "",
     "language": "python",
     "metadata": {},
     "outputs": []
    }
   ],
   "metadata": {}
  }
 ]
}