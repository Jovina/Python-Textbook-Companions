{
 "metadata": {
  "name": "Chapter7"
 },
 "nbformat": 2,
 "nbformat_minor": 0,
 "worksheets": [
  {
   "cells": [
    {
     "cell_type": "heading",
     "level": 1,
     "metadata": {},
     "source": "Laser"
    },
    {
     "cell_type": "heading",
     "level": 2,
     "metadata": {},
     "source": "Example number 1, Page number 198"
    },
    {
     "cell_type": "code",
     "collapsed": false,
     "input": "#To determine matter wave energy\n\n#Variable declaration\nV=3*(10**3);        #velocity of matter wave in m/s\nlamda=600*(10**-9);        #wavelength in m\nh=6.6*(10**-34);            #planck's constant in Js\n\n#Calculation\nE=(h*V)/lamda;\t  #matter wave energy\n\n#Result\nprint(\"matter wave energy is\",E,\"J\");\n\n#answer in book is wrong\n",
     "language": "python",
     "metadata": {},
     "outputs": [
      {
       "output_type": "stream",
       "stream": "stdout",
       "text": "('matter wave energy is', 3.2999999999999987e-24, 'J')\n"
      }
     ],
     "prompt_number": 1
    },
    {
     "cell_type": "heading",
     "level": 2,
     "metadata": {},
     "source": "Example number 2, Page number 198\n"
    },
    {
     "cell_type": "code",
     "collapsed": false,
     "input": "#To calculate wavelength of emitted photons\n\n#importing modules\nimport math\n\n#Variable declaration\nEg=3*1.6*(10**-19);            #energy gap in J\nC=3*(10**8);        #velocity of photon in m/s\nh=6.6*(10**-34);       #plank's constant in Js\n\n#Calculation\nlamda=(h*C)/Eg;  \t#wavelength in m\nlamda1=lamda*(10**9);       #converting into nm\nlamda1=math.ceil(lamda1*100)/100   #rounding off to 2 decimals\n\n#Result\nprint(\"wavelength of emitted photons is\",lamda,\"m\");\nprint(\"wavelength of emitted photons is\",lamda1,\"nm\");\n\n#answer in book is wrong\n",
     "language": "python",
     "metadata": {},
     "outputs": [
      {
       "output_type": "stream",
       "stream": "stdout",
       "text": "('wavelength of emitted photons is', 4.124999999999999e-07, 'm')\n('wavelength of emitted photons is', 412.5, 'nm')\n"
      }
     ],
     "prompt_number": 2
    },
    {
     "cell_type": "heading",
     "level": 2,
     "metadata": {},
     "source": "Example number 3, Page number 198\n"
    },
    {
     "cell_type": "code",
     "collapsed": false,
     "input": "#To determine the ratio in higher energy and lower energy\n\n#importing modules\nimport math\n\n#Variable declaration\nEg=3*1.6*(10**-19);         #energy gap in J\nT=50+273;                #temperature in kelvin\nKb=1.38*(10**-23);         #boltzmann constant in J/K\n\n#Calculation\nA=Eg/(Kb*T);\nR=math.exp(-A);\t  #ratio\n\n#Result\nprint(\"ratio in higher energy and lower energy is \",R);\n\n#answer in book is wrong\n",
     "language": "python",
     "metadata": {},
     "outputs": [
      {
       "output_type": "stream",
       "stream": "stdout",
       "text": "('ratio in higher energy and lower energy is ', 1.7081387676131091e-47)\n"
      }
     ],
     "prompt_number": 3
    },
    {
     "cell_type": "heading",
     "level": 2,
     "metadata": {},
     "source": "Example number 4, Page number 199\n"
    },
    {
     "cell_type": "code",
     "collapsed": false,
     "input": "#To determine the ratio of stimulated emission rate to spontaneous emission\n\n#importing modules\nimport math\n\n#Variable declaration\nlamda=0.5*(10**-9);      #wavelength in nm\nh=6.626*(10**-34);       #planck constant in Js\nT=1000;              #temperature in K\nKb=1.381*(10**-23);       #boltzmann constant in J/k\nc=3*(10**8);\n\n#Calculation\nnew=c/lamda;\nA=(h*new)/(Kb*T);\n#the next statement i.e calculation of math.exp(A) throws a math range error. The question and the answer in the book is wrong.\nB=math.exp(A)\n",
     "language": "python",
     "metadata": {},
     "outputs": [
      {
       "ename": "OverflowError",
       "evalue": "math range error",
       "output_type": "pyerr",
       "traceback": [
        "\u001b[1;31m---------------------------------------------------------------------------\u001b[0m\n\u001b[1;31mOverflowError\u001b[0m                             Traceback (most recent call last)",
        "\u001b[1;32m<ipython-input-5-1ba7dce7b26d>\u001b[0m in \u001b[0;36m<module>\u001b[1;34m()\u001b[0m\n\u001b[0;32m     15\u001b[0m \u001b[0mA\u001b[0m\u001b[1;33m=\u001b[0m\u001b[1;33m(\u001b[0m\u001b[0mh\u001b[0m\u001b[1;33m*\u001b[0m\u001b[0mnew\u001b[0m\u001b[1;33m)\u001b[0m\u001b[1;33m/\u001b[0m\u001b[1;33m(\u001b[0m\u001b[0mKb\u001b[0m\u001b[1;33m*\u001b[0m\u001b[0mT\u001b[0m\u001b[1;33m)\u001b[0m\u001b[1;33m;\u001b[0m\u001b[1;33m\u001b[0m\u001b[0m\n\u001b[0;32m     16\u001b[0m \u001b[1;31m#the next statement i.e calculation of math.exp(A) throws a math range error. The question and the answer in the book is wrong.\u001b[0m\u001b[1;33m\u001b[0m\u001b[1;33m\u001b[0m\u001b[0m\n\u001b[1;32m---> 17\u001b[1;33m \u001b[0mB\u001b[0m\u001b[1;33m=\u001b[0m\u001b[0mmath\u001b[0m\u001b[1;33m.\u001b[0m\u001b[0mexp\u001b[0m\u001b[1;33m(\u001b[0m\u001b[0mA\u001b[0m\u001b[1;33m)\u001b[0m\u001b[1;33m\u001b[0m\u001b[0m\n\u001b[0m",
        "\u001b[1;31mOverflowError\u001b[0m: math range error"
       ]
      }
     ],
     "prompt_number": 5
    },
    {
     "cell_type": "heading",
     "level": 2,
     "metadata": {},
     "source": "Example number 5, Page number 200\n"
    },
    {
     "cell_type": "code",
     "collapsed": false,
     "input": "#To determine the wavelength\n\n#importing modules\nimport math\n\n#Variable declaration\nEg=1.43*1.602*(10**-19);        #band gap energy in J\nT=300;                       #temperature in K\nh=6.626*(10**-34);\nc=3*(10**8);\n\n#Calculation\nlamda=(h*c)/Eg;\nlamda1=lamda*(10**6);        #converting into micrometre\nlamda1=math.ceil(lamda1*1000)/1000   #rounding off to 3 decimals\n\n#Result\nprint(\"the GaAs photodetector will cease to operate above is\",lamda1,\"micrometre\");\n",
     "language": "python",
     "metadata": {},
     "outputs": [
      {
       "output_type": "stream",
       "stream": "stdout",
       "text": "('the GaAs photodetector will cease to operate above is', 0.868, 'micrometre')\n"
      }
     ],
     "prompt_number": 7
    },
    {
     "cell_type": "code",
     "collapsed": false,
     "input": "",
     "language": "python",
     "metadata": {},
     "outputs": []
    }
   ],
   "metadata": {}
  }
 ]
}