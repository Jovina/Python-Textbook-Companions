{
 "metadata": {
  "name": "Chapter3"
 },
 "nbformat": 2,
 "nbformat_minor": 0,
 "worksheets": [
  {
   "cells": [
    {
     "cell_type": "heading",
     "level": 1,
     "metadata": {},
     "source": "Acoustics Of Buildings"
    },
    {
     "cell_type": "heading",
     "level": 2,
     "metadata": {},
     "source": "Example 1, Page number 84"
    },
    {
     "cell_type": "code",
     "collapsed": false,
     "input": "#Determining the total absorption in the hall\n\n#Variable declaration\nV=7500;              #Volume of cinema hall in m^3\nT=1.5;               #Reverberation time in seconds\n\n#Calculation\nA=(0.165*V)/T;\t     #total absorption in hall\n\n#Result\nprint(\"total absorption in hall in O.W.U or Sabine is\",round(A));\n",
     "language": "python",
     "metadata": {},
     "outputs": [
      {
       "output_type": "stream",
       "stream": "stdout",
       "text": "('total absorption in hall in O.W.U or Sabine is', 825.0)\n"
      }
     ],
     "prompt_number": 1
    },
    {
     "cell_type": "heading",
     "level": 2,
     "metadata": {},
     "source": "Example 2, Page number 84"
    },
    {
     "cell_type": "code",
     "collapsed": false,
     "input": "#Determining reverberation time of hall\n\n#importing modules\nimport math\n\n#Variable declaration\nV=1500;              #Volume of hall in m^3\nS=120;               #Seating capacity\nS1=112;              #Area of plastered wall in m^2\nC1=0.03;         #Coefficient of absorption of plastered wall in O.W.U\nS2=130;              #Area of wooden floor in m^2\nC2=0.06;             #Coefficient of absorption of wooden floor in O.W.U\nS3=20;               #Area of wooden door in m^2\nC3=0.06;             #Coefficient of absorption of wooden door in O.W.U\nS4=170;              #Area of plastered ceiling in m^2\nC4=0.04;        #Coefficient of absorption of plastered ceiling in O.W.U\nS5=100;              #Area of cushioned chairs in m^2\nC5=1.0;         #Coefficient of absorption of cushioned chairs in O.W.U\nS6=120;              #Area of audience in m^2\nC6=4.7;              #Coefficient of absorption of audience in O.W.U\n\n#Calculation\nA1=S1*C1;            #Absorption due to plastered wall\nA2=S2*C2;            #Absorption due to wooden floor\nA3=S3*C3;            #Absorption due to wooden door\nA4=S4*C4;            #Absorption due to plastered ceiling\nA5=S5*C5;            #Absorption due to cushioned chairs\nA6=S6*C6;            #Absorption due to 120 persons\nA=A1+A2+A3+A4+A5;\nT1=(0.165*V)/A;\nT1=math.ceil(T1*100)/100   #rounding off to 2 decimals\nT2=(0.165*V)/(A6+A);\nT2=math.ceil(T2*1000)/1000   #rounding off to 3 decimals\nA7=100*C6;          #Absorption due to 100 persons\nT3=(0.165*V)/(A7+A);\nT3=math.ceil(T3*1000)/1000   #rounding off to 3 decimals\n\n#Result\nprint(\"Reverberation time when hall is empty is\",T1,\"sec\");\nprint(\"Reverberation time when hall is with full capacity of audience is\",T2,\"sec\");\nprint(\"Reverberation time when hall is with audience occupying only cushioned seats is\",T3,\"sec\");\n",
     "language": "python",
     "metadata": {},
     "outputs": [
      {
       "output_type": "stream",
       "stream": "stdout",
       "text": "('Reverberation time when hall is empty is', 2.08, 'sec')\n('Reverberation time when hall is with full capacity of audience is', 0.363, 'sec')\n('Reverberation time when hall is with audience occupying only cushioned seats is', 0.421, 'sec')\n"
      }
     ],
     "prompt_number": 2
    },
    {
     "cell_type": "heading",
     "level": 2,
     "metadata": {},
     "source": "Example 3, Page number 85"
    },
    {
     "cell_type": "code",
     "collapsed": false,
     "input": "#Determining average absorbing power of surfaces\n\n#importing modules\nimport math\n\n#Variable declaration\nV=120000;        #Volume of hall in m^3\nT=1.5;           #Reverberation time in sec\nS=25000;         #Total sound absorbing surface in m^2\n\n#Calculation\na=(0.165*V)/(T*S);\t   #average absorbing power of surface\na=math.ceil(a*1000)/1000   #rounding off to 3 decimals\n\n#Result\nprint(\"average absorbing power of surface is\",a,\"O.W.U or sabine\");\n",
     "language": "python",
     "metadata": {},
     "outputs": [
      {
       "output_type": "stream",
       "stream": "stdout",
       "text": "('average absorbing power of surface is', 0.528, 'O.W.U or sabine')\n"
      }
     ],
     "prompt_number": 3
    },
    {
     "cell_type": "heading",
     "level": 2,
     "metadata": {},
     "source": "Example 4, Page number 85"
    },
    {
     "cell_type": "code",
     "collapsed": false,
     "input": "#Determining the effect on reverberation time\n\n#importing modules\nimport math\n\n#Variable declaration\nV=2265;         #volume of hall in m^3\nA=92.9;         #Total absorption in m^2\n\n#Calculation\nT1=(0.165*V)/A;\nT1=math.ceil(T1*1000)/1000   #rounding off to 3 decimals\n#when one audien fill the hall then total absorption will be 2*A\nT2=(0.165*V)/(2*A);\nT2=math.ceil(T2*1000)/1000   #rounding off to 3 decimals\n\n#Result\nprint(\"T1 is\",T1,\"sec\");\nprint(\"when one audien fill the hall then total absorption is\",T2,\"sec\");\nprint(\"thus reverberation time is reduced to one-half of its initial value\");\n",
     "language": "python",
     "metadata": {},
     "outputs": [
      {
       "output_type": "stream",
       "stream": "stdout",
       "text": "('T1 is', 4.023, 'sec')\n('when one audien fill the hall then total absorption is', 2.012, 'sec')\nthus reverberation time is reduced to one-half of its initial value\n"
      }
     ],
     "prompt_number": 6
    },
    {
     "cell_type": "heading",
     "level": 2,
     "metadata": {},
     "source": "Example 5, Page number 86"
    },
    {
     "cell_type": "code",
     "collapsed": false,
     "input": "#Determining the reverberation time of the hall\n\n#importing modules\nimport math\n\n#Variable declaration\nV=1000;            #volume of hall in m^3\nA1=400;            #area of wall in m^2\nA2=100;            #area of floor in m^2\nA3=100;            #area of ceiling in m^2\nN=0.02;            #number of cushion chairs of wall\na1=0.01;           #absorption coefficient of ceiling\na2=0.05;           #absorption coefficient of floor\na3=1.0;            #absorption coefficient of each cushion chair\n\n#Calculation\nT=(0.165*V)/((A1*N)+(A2*a1)+(A2*a2)+(A3*a3))\t#reverberation time of hall\nT=math.ceil(T*100)/100   #rounding off to 2 decimals\n\n#Result\nprint(\"reverberation time of the hall is\",T,\"sec\");\n\n#answer in book is wrong\n",
     "language": "python",
     "metadata": {},
     "outputs": [
      {
       "output_type": "stream",
       "stream": "stdout",
       "text": "('reverberation time of the hall is', 1.45, 'sec')\n"
      }
     ],
     "prompt_number": 7
    },
    {
     "cell_type": "code",
     "collapsed": false,
     "input": "",
     "language": "python",
     "metadata": {},
     "outputs": []
    }
   ],
   "metadata": {}
  }
 ]
}