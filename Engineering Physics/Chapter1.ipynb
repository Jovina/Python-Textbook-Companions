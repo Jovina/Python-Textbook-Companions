{
 "metadata": {
  "name": "Chapter1"
 },
 "nbformat": 2,
 "nbformat_minor": 0,
 "worksheets": [
  {
   "cells": [
    {
     "cell_type": "heading",
     "level": 1,
     "metadata": {},
     "source": "OPTICS\n"
    },
    {
     "cell_type": "heading",
     "level": 2,
     "metadata": {},
     "source": "Example 1, Page number 36"
    },
    {
     "cell_type": "code",
     "collapsed": false,
     "input": "#To calculate the intensity ratio of bright and dark fringes\n\n#importing modules\nimport math\n\n#Variable declaration\nI1=1;\nI2=25;\n\n#Calculation\n#Intensity is directly proportional to square of the amplitude\nA1=math.sqrt(I1);\nA2=math.sqrt(I2);\nImax=(A1+A2)**2;\nImin=(A1-A2)**2;\nI=Imax/Imin;     #intensity ratio\n\n#Result\nprint(\"The intensity ratio of bright and dark fringes is\",I);\n",
     "language": "python",
     "metadata": {},
     "outputs": [
      {
       "output_type": "stream",
       "stream": "stdout",
       "text": "('The intensity ratio of bright and dark fringes is', 2.25)\n"
      }
     ],
     "prompt_number": 1
    },
    {
     "cell_type": "heading",
     "level": 2,
     "metadata": {},
     "source": "Example 2, Page number 36"
    },
    {
     "cell_type": "code",
     "collapsed": false,
     "input": "#To determine the order that will be visible at a point\n\n#Variable declaration\nn1=21;\nlambda1=6000*(10**-8);   #The 21st order maximum is observed for source of light in centimetres\nlambda2=4500*(10**-8);\n\n#Calculation\nn2=(n1*lambda1)/(lambda2);\n\n#Result\nprint(\"The order that will be visible if the source is replaced by 4500 Armstrong is\",round(n2));\n",
     "language": "python",
     "metadata": {},
     "outputs": [
      {
       "output_type": "stream",
       "stream": "stdout",
       "text": "('The order that will be visible if the source is replaced by 4500 Armstrong is', 28.0)\n"
      }
     ],
     "prompt_number": 2
    },
    {
     "cell_type": "heading",
     "level": 2,
     "metadata": {},
     "source": "Example 3, Page number 37"
    },
    {
     "cell_type": "code",
     "collapsed": false,
     "input": "#To determine the slit seperation in Young's double slit experiment\n\n#Variable declaration\nlamda=5100*(10**-8);         #A source of light in centimetres\nD=200;               #Seperation between screen and slit in centimetres\nbeeta=0.01;          #Overall seperation from double slit in metres\n\n#Calculation\nd=(lamda*D)/beeta;\n\n#Result\nprint(\"The seperation between slits is\",d,\"m\");\n",
     "language": "python",
     "metadata": {},
     "outputs": [
      {
       "output_type": "stream",
       "stream": "stdout",
       "text": "('The seperation between slits is', 1.02, 'm')\n"
      }
     ],
     "prompt_number": 4
    },
    {
     "cell_type": "heading",
     "level": 2,
     "metadata": {},
     "source": "Example 4, Page number 37"
    },
    {
     "cell_type": "code",
     "collapsed": false,
     "input": "#To determine the thickness of the mica sheet\n\n#importing modules\nimport math\n\n#Variable declaration\nmew=1.58;    #Refractive index of mica sheet\nd=0.1;      #Seperation between slits in centimetres\nx=0.2;      #Fringe shifted by a distance in centimetres\nD=50;       #Distance of the screen from slits in centimetres\n\n#Calculation\nt=(x*d)/(D*(mew-1));\nt=math.ceil(t*100000)/100000   #rounding off to 5 decimals\n\n#Result\nprint(\"The thickness of the mica sheet is\",t,\"cm\");\n",
     "language": "python",
     "metadata": {},
     "outputs": [
      {
       "output_type": "stream",
       "stream": "stdout",
       "text": "('The thickness of the mica sheet is', 0.00069, 'cm')\n"
      }
     ],
     "prompt_number": 5
    },
    {
     "cell_type": "heading",
     "level": 2,
     "metadata": {},
     "source": "Example 5, Page number 38"
    },
    {
     "cell_type": "code",
     "collapsed": false,
     "input": "#To determine the fringe width\n\n#importing modules\nimport math\n\n#Variable declaration\nlamda=5000*(10**-8);         #Wavelength of light in centimetres\nD=50;        #Distance between the slit and screen in centimetres\nd=0.05;      #Seperation between two slits in centimetres\n\n#Calculation\nbeeta=(lamda*D)/d;\nbeeta=math.ceil(beeta*100)/100   #rounding off to 2 decimals\n\n#Result\nprint(\"the fringe width is\",beeta,\"cm\");\n",
     "language": "python",
     "metadata": {},
     "outputs": [
      {
       "output_type": "stream",
       "stream": "stdout",
       "text": "('the fringe width is', 0.05, 'cm')\n"
      }
     ],
     "prompt_number": 6
    },
    {
     "cell_type": "heading",
     "level": 2,
     "metadata": {},
     "source": "Example 6, Page number 38"
    },
    {
     "cell_type": "code",
     "collapsed": false,
     "input": "#To determine the wavelength of source of light\n\n#Variable declaration\nbeeta=0.30;       #fringe spacing in centimtres\nd=0.04;        #distance between two slits in centimtres\nD=180;         #distance between the slit and screen in centimetres\n\n#Calculation\nlamda=(beeta*d*(10**8))/D;\n\n#Result\nprint(\"the wavelength of source of light is\",round(lamda),\"Armstrong\");\n\n#answer in book is wrong",
     "language": "python",
     "metadata": {},
     "outputs": [
      {
       "output_type": "stream",
       "stream": "stdout",
       "text": "('the wavelength of source of light is', 6667.0, 'Armstrong')\n"
      }
     ],
     "prompt_number": 7
    },
    {
     "cell_type": "heading",
     "level": 2,
     "metadata": {},
     "source": "Example 7, Page number 38"
    },
    {
     "cell_type": "code",
     "collapsed": false,
     "input": "#To calculate the wavelength of monochromatic light\n\n#Variable declaration\nbeeta=0.04;     #fringe width in centimetres\nd=0.1;         #seperation between slits in centimetres\nD=80;          #distance between slits and screen in centimetres\n\n#Calculation\nlamda=(d*beeta*(10**8))/D;\n\n#Result\nprint(\"the wavelength of monochromatic light is\",round(lamda),\"Armstrong\");\n",
     "language": "python",
     "metadata": {},
     "outputs": [
      {
       "output_type": "stream",
       "stream": "stdout",
       "text": "('the wavelength of monochromatic light is', 5000.0, 'Armstrong')\n"
      }
     ],
     "prompt_number": 8
    },
    {
     "cell_type": "heading",
     "level": 2,
     "metadata": {},
     "source": "Example 8, Page number 39"
    },
    {
     "cell_type": "code",
     "collapsed": false,
     "input": "#To determine the fringe width\n\n#importing modules\nimport math\n\n#Variable declaration\nlamda=5000*(10**-8);    #wavelength of monochromatic light in centimetres\nd=0.05;          #seperation between two slits in centimetres\nD=50;            #distance between slit and screen in centimetres\n\n#Calculation\nbeeta=(lamda*D)/d;\nbeeta=math.ceil(beeta*100)/100   #rounding off to 2 decimals\n\n#Result\nprint(\"the fringe width is\",beeta,\"cm\");\n",
     "language": "python",
     "metadata": {},
     "outputs": [
      {
       "output_type": "stream",
       "stream": "stdout",
       "text": "('the fringe width is', 0.05, 'cm')\n"
      }
     ],
     "prompt_number": 9
    },
    {
     "cell_type": "heading",
     "level": 2,
     "metadata": {},
     "source": "Example 9, Page number 39"
    },
    {
     "cell_type": "code",
     "collapsed": false,
     "input": "#To determine the thickness of a soap film\n\n#importing modules\nimport math\n\n#Variable declaration\nmew=1.33;           #refractive index of soap film\nn=2;\nlamda=7000*(10**-8);       #wavelength of red light in centimetres\n\n#Calculation\nt=(((2*n)+1)*(lamda/2))/(2*mew);\nt=math.ceil(t*1000000)/1000000   #rounding off to 6 decimals\n\n#Result\nprint(\"thickness of the soap film is\",t,\"cm\");\n",
     "language": "python",
     "metadata": {},
     "outputs": [
      {
       "output_type": "stream",
       "stream": "stdout",
       "text": "('thickness of the soap film is', 6.6e-05, 'cm')\n"
      }
     ],
     "prompt_number": 10
    },
    {
     "cell_type": "heading",
     "level": 2,
     "metadata": {},
     "source": "Example 10, Page number 40"
    },
    {
     "cell_type": "code",
     "collapsed": false,
     "input": "#To determine the refractive index of the transparent sheet in Newton's ring experiment\n\n#Variable declaration\nlamda=5460*(10**-8);         #wavelength of light in centimetres\nt=6.3*(10**-4);          #thickness of the transparent material in cm\nn=6;\n\n#Calculation\nmew=((n*lamda)/t)+1;\n\n#Result\nprint(\"the refractive index of the transparent sheet is\",mew);\n",
     "language": "python",
     "metadata": {},
     "outputs": [
      {
       "output_type": "stream",
       "stream": "stdout",
       "text": "('the refractive index of the transparent sheet is', 1.52)\n"
      }
     ],
     "prompt_number": 11
    },
    {
     "cell_type": "heading",
     "level": 2,
     "metadata": {},
     "source": "Example 11, Page number 40"
    },
    {
     "cell_type": "code",
     "collapsed": false,
     "input": "#To determine the thickness of the glass plate\n\n#importing modules\nimport math\n\n#Variable declaration\nmew=1.56;          #refractive index of the glass plate\nlamda=5000*(10**-8);       #wavelength of the light in centimetres\nn=16;\n\n#Calculation\nt=(n*lamda)/(mew-1);\nt=math.ceil(t*100000)/100000   #rounding off to 5 decimals\n\n#Result\nprint(\"thickness of the glass plate is\",t,\"cm\");\n",
     "language": "python",
     "metadata": {},
     "outputs": [
      {
       "output_type": "stream",
       "stream": "stdout",
       "text": "('thickness of the glass plate is', 0.00143, 'cm')\n"
      }
     ],
     "prompt_number": 12
    },
    {
     "cell_type": "heading",
     "level": 2,
     "metadata": {},
     "source": "Example 12, Page number 41"
    },
    {
     "cell_type": "code",
     "collapsed": false,
     "input": "#To determine the thickness of the glass plate\n\n#importing modules\nimport math\n\n#Variable declaration\nlamda=6000*(10**-8);         #wavelength of parallel beam of light in centimetres\nmew=1.5;             #refractive index of glass plate\nr1=50;                #angle of refraction in degrees\nr=r1*0.0174532925    #converting degrees to radians\nn=1;                 #for least thickness\n\n#Calculation\nt=(n*lamda)/(2*mew*math.cos(r));\nt=math.ceil(t*1000000)/1000000   #rounding off to 6 decimals\n\n#Result\nprint(\"the least thickness of the glass plate is\",t,\"cm\");\n",
     "language": "python",
     "metadata": {},
     "outputs": [
      {
       "output_type": "stream",
       "stream": "stdout",
       "text": "('the least thickness of the glass plate is', 3.2e-05, 'cm')\n"
      }
     ],
     "prompt_number": 13
    },
    {
     "cell_type": "heading",
     "level": 2,
     "metadata": {},
     "source": "Example 13, Page number 41"
    },
    {
     "cell_type": "code",
     "collapsed": false,
     "input": "#To calculate the thickness of the glass plate\n\n#importing modules\nimport math\n\n#Variable declaration\nlamda=5000*(10**-8);           #wavelength of light in centimetres\nn=6;            #shift of the central range or the ratio between S and beeta\nmew=1.5;        #refractive index of glass plate\n\n#Calculation\nt=(n*lamda)/(mew-1);\nt=math.ceil(t*100000)/100000   #rounding off to 5 decimals\n\n#Result\nprint(\"the thickness of the glass plate is\",t,\"cm\");\n",
     "language": "python",
     "metadata": {},
     "outputs": [
      {
       "output_type": "stream",
       "stream": "stdout",
       "text": "('the thickness of the glass plate is', 0.00061, 'cm')\n"
      }
     ],
     "prompt_number": 16
    },
    {
     "cell_type": "heading",
     "level": 2,
     "metadata": {},
     "source": "Example 14, Page number 42"
    },
    {
     "cell_type": "code",
     "collapsed": false,
     "input": "#To determine the refractive index of liquid in Newton's ring\n\n#importing modules\nimport math\n\n#Variable declaration\nD8=1.42;          #diameter of the 8th ring in centimetres\nD8new=1.25;       #new diameter of the 8th ring in centimetres\n\n#Calculation\nmew=(D8**2)/(D8new**2);\nmew=math.ceil(mew*1000)/1000   #rounding off to 3 decimals\n\n#Result\nprint(\"refractive index of the liquid is\",mew);\n",
     "language": "python",
     "metadata": {},
     "outputs": [
      {
       "output_type": "stream",
       "stream": "stdout",
       "text": "('refractive index of the liquid is', 1.291)\n"
      }
     ],
     "prompt_number": 18
    },
    {
     "cell_type": "heading",
     "level": 2,
     "metadata": {},
     "source": "Example 15, Page number 42"
    },
    {
     "cell_type": "code",
     "collapsed": false,
     "input": "#To determine the thickness of the thinnest film\n\n#importing modules\nimport math\n\n#Variable declaration\nn=1;\nlamda=6000*(10**-8);          #wavelength of yellow light in cm\nmew=1.33;             #refractive index of the film\nr1=0;                  #angle of refraction in degrees\nr=r1*0.0174532925    #converting degrees to radians\n\n#Calculation\nt=(n*lamda)/(2*mew*math.cos(r)*(10**-2));\nt=math.ceil(t*100000)/100000   #rounding off to 5 decimals\n\n#Result\nprint(\"thickness of the thinnest film is\",t,\"cm\");\n",
     "language": "python",
     "metadata": {},
     "outputs": [
      {
       "output_type": "stream",
       "stream": "stdout",
       "text": "('thickness of the thinnest film is', 0.00226, 'cm')\n"
      }
     ],
     "prompt_number": 19
    },
    {
     "cell_type": "heading",
     "level": 2,
     "metadata": {},
     "source": "Example 16, Page number 43"
    },
    {
     "cell_type": "code",
     "collapsed": false,
     "input": "#To determine the radius of curvature of plano convex lens\n\n#Variable declaration\nlamda=6000*(10**-8);        #wavelength of light in centimetres\nm=18;\nn=8;\nDm=0.65;           #diameter of 18th ring in centimetres\nDn=0.35;          #diameter of 8th ring in centimetres\n\n#Calculation\nR=(Dm**2-Dn**2)/(4*lamda*(m-n));\n\n#Result\nprint(\"Radius of curvature of the plano convex lens is\",round(R),\"cm\");\n",
     "language": "python",
     "metadata": {},
     "outputs": [
      {
       "output_type": "stream",
       "stream": "stdout",
       "text": "('Radius of curvature of the plano convex lens is', 125.0, 'cm')\n"
      }
     ],
     "prompt_number": 20
    },
    {
     "cell_type": "heading",
     "level": 2,
     "metadata": {},
     "source": "Example 17, Page number 43"
    },
    {
     "cell_type": "code",
     "collapsed": false,
     "input": "#To determine the refractive index of the liquid\n\n#importing modules\nimport math\n\n#Variable declaration\nD12air=1.45;            #diameter of 12th ring in air medium\nD12liq=1.25;            #diameter of 12th ring in liquid\n\n#Calculation\nmew=(D12air**2)/(D12liq**2);\nmew=math.ceil(mew*1000)/1000   #rounding off to 3 decimals\n\n#Result\nprint(\"refractive index of the liquid is\",mew);\n",
     "language": "python",
     "metadata": {},
     "outputs": [
      {
       "output_type": "stream",
       "stream": "stdout",
       "text": "('refractive index of the liquid is', 1.346)\n"
      }
     ],
     "prompt_number": 23
    },
    {
     "cell_type": "heading",
     "level": 2,
     "metadata": {},
     "source": "Example 18, Page number 44"
    },
    {
     "cell_type": "code",
     "collapsed": false,
     "input": "#To determine the diameter of a ring in Newton's rings experiment\n\n#importing modules\nimport math\n\n#Variable declaration\nD5=0.3;         #diameter of 5th ring in centimetres\nD15=0.62;       #diameter of 15th ring in centimetres\n\n#Calculation\n#The principle used here is Dm^2-Dn^2=4*lambda*R*(m-n).\n#the product lambda*R is constant hence it can be eliminated.\naLHS=D15**2-D5**2;\naRHS=4*(15-5);     #By substituting values of m and n in the principle equation\nbRHS=4*(25-5);     #By substituting values of m and n in the principle equation\nc=bRHS/aRHS;\nD25=math.sqrt((c*aLHS)+(D5**2));\nD25=math.ceil(D25*1000)/1000   #rounding off to 3 decimals\n\n#Result\nprint(\"diameter of 25th ring is\",D25,\"cm\");\n",
     "language": "python",
     "metadata": {},
     "outputs": [
      {
       "output_type": "stream",
       "stream": "stdout",
       "text": "('diameter of 25th ring is', 0.824, 'cm')\n"
      }
     ],
     "prompt_number": 24
    },
    {
     "cell_type": "heading",
     "level": 2,
     "metadata": {},
     "source": "Example 19, Page number 44"
    },
    {
     "cell_type": "code",
     "collapsed": false,
     "input": "#To determine the radius of curvature of convex lens\n\n#importing modules\nimport math\n\n#Variable declaration\nlamda=5890*(10**-8);          #wavelength in centimetres\nm=15;\nn=5;\nDm=0.590;             #diameter of 15th ring in centimetres\nDn=0.336;             #diameter of 5th ring in centimetres\n\n#Calculation\nR=(Dm-Dn)/(4*lamda*(m-n));\nR=math.ceil(R*100)/100   #rounding off to 2 decimals\n\n#Result\nprint(\"radius of curvature of convex lens is\",R,\"cm\");\n",
     "language": "python",
     "metadata": {},
     "outputs": [
      {
       "output_type": "stream",
       "stream": "stdout",
       "text": "('radius of curvature of convex lens is', 107.81, 'cm')\n"
      }
     ],
     "prompt_number": 25
    },
    {
     "cell_type": "heading",
     "level": 2,
     "metadata": {},
     "source": "Example 20, Page number 45"
    },
    {
     "cell_type": "code",
     "collapsed": false,
     "input": "#To determine the wavelength of the light used\n\n#importing modules\nimport math\n\n#Variable declaration\nR=70;          #radius of curvature of the lens in centimetres\nn=10;\nDn=0.433      #diameter of 10th dark ring in centimetres\n\n#Calculation\nlamda=(Dn**2)/(4*R*n);\nlamda=math.ceil(lamda*1000000)/1000000   #rounding off to 6 decimals\n\n#Result\nprint(\"the wavelength of the light used is\",lamda,\"cm\");\n",
     "language": "python",
     "metadata": {},
     "outputs": [
      {
       "output_type": "stream",
       "stream": "stdout",
       "text": "('the wavelength of the light used is', 6.7e-05, 'cm')\n"
      }
     ],
     "prompt_number": 26
    },
    {
     "cell_type": "heading",
     "level": 2,
     "metadata": {},
     "source": "Example 21, Page number 45"
    },
    {
     "cell_type": "code",
     "collapsed": false,
     "input": "#To determine the slit width\n\n#importing modules\nimport math\n\n#Variable declaration\ntheta1=15;             #angle in degrees\ntheta=theta1*0.0174532925    #converting degrees to radians\nlamda=6500*(10**-8);          #wavelength in centimetres\nn=1;\n\n#Calculation\na=(n*lamda)/math.sin(theta);\na=math.ceil(a*1000000)/1000000   #rounding off to 6 decimals\n\n#Result\nprint(\"slit width illuminated by white light is\",a,\"cm\");\n",
     "language": "python",
     "metadata": {},
     "outputs": [
      {
       "output_type": "stream",
       "stream": "stdout",
       "text": "('slit width illuminated by white light is', 0.000252, 'cm')\n"
      }
     ],
     "prompt_number": 27
    },
    {
     "cell_type": "heading",
     "level": 2,
     "metadata": {},
     "source": "Example 22, Page number 45"
    },
    {
     "cell_type": "code",
     "collapsed": false,
     "input": "#To determine the wavelength of light\n\n#importing modules\nimport math\n\n#Variable declaration\ntheta1=15;           #first diffraction maxima in degrees\ntheta=theta1*0.0174532925    #converting degrees to radians\na=2.5*(10**-6);       #slit width in metres\n\n#Calculation\nlamda=(a*math.sin(theta)*(10**10))/1.43;\n\n#Result\nprint(\"wavelength of light is\",round(lamda),\"Armstrong\");\n\n#answer in book is wrong\n",
     "language": "python",
     "metadata": {},
     "outputs": [
      {
       "output_type": "stream",
       "stream": "stdout",
       "text": "('wavelength of light is', 4525.0, 'Armstrong')\n"
      }
     ],
     "prompt_number": 28
    },
    {
     "cell_type": "heading",
     "level": 2,
     "metadata": {},
     "source": "Example 23, Page number 46"
    },
    {
     "cell_type": "code",
     "collapsed": false,
     "input": "#To determine the wavelength of spectral line\n\n#importing modules\nimport math\nimport numpy as np\n\n#Variable declaration\nn=2;\nN=4250;           #grating in lines per centimetre\ntheta=30;         #angle in degrees\ntheta=theta*0.0174532925    #converting degrees to radians\n\n#Calculation\ne=np.reciprocal(4250.)\nlamda=(e*math.sin(theta))/n;    #wavelength in cm\nlamdaa=lamda*(10**8);      #converting wavelength into Armstrong\n\n#Result\nprint(\"wavelength of the spectral line is\",round(lamdaa),\"Armstrong\");\n",
     "language": "python",
     "metadata": {},
     "outputs": [
      {
       "output_type": "stream",
       "stream": "stdout",
       "text": "('wavelength of the spectral line is', 5882.0, 'Armstrong')\n"
      }
     ],
     "prompt_number": 29
    },
    {
     "cell_type": "heading",
     "level": 2,
     "metadata": {},
     "source": "Example 24, Page number 46"
    },
    {
     "cell_type": "code",
     "collapsed": false,
     "input": "#To determine the angular seperation\n\n#importing modules\nimport math\n\n#Variable declaration\nlamda=600*(10**-9);           #wavelength of light in metres\na=1*(10**-6);                  #slit width in metres\nn=1;\n\n#Calculation\ntheta1=math.asin((n*lamda)/a);\ntheta=theta1*57.2957795;     #converting radians to degrees\ntheta=math.ceil(theta*1000)/1000   #rounding off to 3 decimals\n\n#Result\nprint(\"the angular seperation is\",theta,\"degrees\");\n\n#answer in the book is wrong",
     "language": "python",
     "metadata": {},
     "outputs": [
      {
       "output_type": "stream",
       "stream": "stdout",
       "text": "('the angular seperation is', 36.87, 'degrees')\n"
      }
     ],
     "prompt_number": 30
    },
    {
     "cell_type": "heading",
     "level": 2,
     "metadata": {},
     "source": "Example 25, Page number 47"
    },
    {
     "cell_type": "code",
     "collapsed": false,
     "input": "#To determine the visible number of orders\n\n#importing modules\nimport math\nimport numpy as np\n\n#Variable declaration\nN=10520;      #grating lines in lines per centimetre\ntheta=math.pi/2;          #angle in degrees\nlamda=5*(10**-5);         #wavelength of light in centimetres\n\n#Calculation\ne=np.reciprocal(10520.)\nn=(e*math.sin(theta))/lamda;\n\n#Result\nprint(\"the number of orders visible in grating spectra is\",round(n));\n",
     "language": "python",
     "metadata": {},
     "outputs": [
      {
       "output_type": "stream",
       "stream": "stdout",
       "text": "('the number of orders visible in grating spectra is', 2.0)\n"
      }
     ],
     "prompt_number": 31
    },
    {
     "cell_type": "heading",
     "level": 2,
     "metadata": {},
     "source": "Example 26, Page number 47"
    },
    {
     "cell_type": "code",
     "collapsed": false,
     "input": "#To determine the slit width\n\n#importing modules\nimport math\n\n#Variable declaration\nx=4.2*(10**-3);        #distance between central max to first max in metres\nD=0.6;                 #distance between screen and slit in metres\nlamda=6000*(10**-10);          #wavelength of light in metres\n\n#Calculation\nd=(D*lamda)/x;\nd=math.ceil(d*1000000)/1000000   #rounding off to 6 decimals\n\n#Result\nprint(\"the slit width in a single slit diffraction pattern is\",d,\"m\");\n",
     "language": "python",
     "metadata": {},
     "outputs": [
      {
       "output_type": "stream",
       "stream": "stdout",
       "text": "('the slit width in a single slit diffraction pattern is', 8.6e-05, 'm')\n"
      }
     ],
     "prompt_number": 32
    },
    {
     "cell_type": "heading",
     "level": 2,
     "metadata": {},
     "source": "Example 27, Page number 48"
    },
    {
     "cell_type": "code",
     "collapsed": false,
     "input": "#To calculate the possible order of spectra\n\n#Variable declaration\nN=5.905*(10**3);          #grating lines in lines per centimetre\nlamda=6000*(10**-8);      #wavelength of light in centimetres\n\n#Calculation\nd=1/N;\nm=d/lamda;\n\n#Result\nprint(\"the possible order of spectra with a plane transmission grating is\",round(m));\n",
     "language": "python",
     "metadata": {},
     "outputs": [
      {
       "output_type": "stream",
       "stream": "stdout",
       "text": "('the possible order of spectra with a plane transmission grating is', 3.0)\n"
      }
     ],
     "prompt_number": 33
    },
    {
     "cell_type": "heading",
     "level": 2,
     "metadata": {},
     "source": "Example 28, Page number 48"
    },
    {
     "cell_type": "code",
     "collapsed": false,
     "input": "#To determine the wavelength of light in Fraulhofer double slit diffraction\n\n#Variable declaration\nD=150;              #distance between slit and screen in centimetres\nd=0.03;              #seperation between slits in centimetres\nbeeta=0.3;          #fringe seperation in centimetres\n\n#Calculation\nlamda=(beeta*d*(10**8))/D;\n\n#Result\nprint(\"wavelength of light if fringe seperation is 0.3 cm is\",round(lamda),\"Armstrong\");\n",
     "language": "python",
     "metadata": {},
     "outputs": [
      {
       "output_type": "stream",
       "stream": "stdout",
       "text": "('wavelength of light if fringe seperation is 0.3 cm is', 6000.0, 'Armstrong')\n"
      }
     ],
     "prompt_number": 34
    },
    {
     "cell_type": "code",
     "collapsed": false,
     "input": "",
     "language": "python",
     "metadata": {},
     "outputs": []
    }
   ],
   "metadata": {}
  }
 ]
}