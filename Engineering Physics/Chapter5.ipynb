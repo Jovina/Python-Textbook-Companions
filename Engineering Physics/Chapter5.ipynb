{
 "metadata": {
  "name": "Chapter5"
 },
 "nbformat": 2,
 "nbformat_minor": 0,
 "worksheets": [
  {
   "cells": [
    {
     "cell_type": "heading",
     "level": 1,
     "metadata": {},
     "source": "Superconductivity"
    },
    {
     "cell_type": "heading",
     "level": 2,
     "metadata": {},
     "source": "Example 1, Page number 130"
    },
    {
     "cell_type": "code",
     "collapsed": false,
     "input": "#To determine magnitude of critical magnitutic field\n\n#Variable declaration\nTc=7.2;          #critical temperature in K\nH0=6.5*(10**3);      #critical magnetic field in A/m\nT=5;              #temperature in K\n\n#Calculation\nA=1-(T/Tc)**2;\nHc=H0*A;\t#magnitude\n\n#Result\nprint(\"magnitude is\",round(Hc),\"A/m\");\n",
     "language": "python",
     "metadata": {},
     "outputs": [
      {
       "output_type": "stream",
       "stream": "stdout",
       "text": "('magnitude is', 3365.0, 'A/m')\n"
      }
     ],
     "prompt_number": 1
    },
    {
     "cell_type": "heading",
     "level": 2,
     "metadata": {},
     "source": "Example 2, Page number 130"
    },
    {
     "cell_type": "code",
     "collapsed": false,
     "input": "#To determine the value of critical field\n\n#Variable declaration\nH0=3.2*(10**3);        #critical magnetic field in A/m\nTc=3.5;             #critical temperature in K\nT=2.5;              #temperature in K\n\n#Calculation\nA=1-(T/Tc)**2;\nHc=H0*A;\t#value of critical field\n\n#Result\nprint(\"value of critical field is\",round(Hc),\"A/m\");\n",
     "language": "python",
     "metadata": {},
     "outputs": [
      {
       "output_type": "stream",
       "stream": "stdout",
       "text": "('value of critical field is', 1567.0, 'A/m')\n"
      }
     ],
     "prompt_number": 2
    },
    {
     "cell_type": "heading",
     "level": 2,
     "metadata": {},
     "source": "Example 3, Page number 130"
    },
    {
     "cell_type": "code",
     "collapsed": false,
     "input": "#To determine transition temperature\n\n#importing modules\nimport math\n\n#Variable declaration\nHc=5*(10**3);         #critical magnetic field in A/m\nH0=2*(10**4);      #critical field in A/m\nT=6;              #temperature in K\n\n#Calculation\nA=math.sqrt(1-(Hc/H0));\nTc=T/A;\t\t#transition temperature\nTc=math.ceil(Tc*100)/100   #rounding off to 2 decimals\n\n#Result\nprint(\"transition temperature is\",Tc,\"K\");\n\n#answer in the book is wrong",
     "language": "python",
     "metadata": {},
     "outputs": [
      {
       "output_type": "stream",
       "stream": "stdout",
       "text": "('transition temperature is', 6.0, 'K')\n"
      }
     ],
     "prompt_number": 3
    },
    {
     "cell_type": "heading",
     "level": 2,
     "metadata": {},
     "source": "Example 4, Page number 131"
    },
    {
     "cell_type": "code",
     "collapsed": false,
     "input": "#To determine critical current value\n\n#importing modules\nimport math\n\n#Variable declaration\nHc=2*(10**3);           #critical magnetic field in A/m\nr=0.02;              #radius of ring in m\n\n#Calculation\nIc=2*math.pi*r*Hc;\t#critical current value\nIc=math.ceil(Ic*10)/10   #rounding off to 1 decimal\n\n#Result\nprint(\"critical current value is\",Ic,\"Amp\");\n\n#answer in the book is wrong",
     "language": "python",
     "metadata": {},
     "outputs": [
      {
       "output_type": "stream",
       "stream": "stdout",
       "text": "('critical current value is', 251.4, 'Amp')\n"
      }
     ],
     "prompt_number": 4
    },
    {
     "cell_type": "heading",
     "level": 2,
     "metadata": {},
     "source": "Example 5, Page number 131"
    },
    {
     "cell_type": "code",
     "collapsed": false,
     "input": "#To determine isotopic mass\n\n#importing modules\nimport math\n\n#Variable declaration\nM1=199.5;         #isotopic mass in a.m.u\nT1=5;             #first critical temperature in K\nT2=5.1;           #second critical temperature in K\n\n\n#Calculation\nM2=M1*((T1/T2)**2);\t#isotopic mass at 5.1 K\nM2=math.ceil(M2*1000)/1000   #rounding off to 3 decimals\n\n#Result\nprint(\"isotopic mass at 5.1 K is\",M2,\"a.m.u\");\n",
     "language": "python",
     "metadata": {},
     "outputs": [
      {
       "output_type": "stream",
       "stream": "stdout",
       "text": "('isotopic mass at 5.1 K is', 191.754, 'a.m.u')\n"
      }
     ],
     "prompt_number": 5
    },
    {
     "cell_type": "heading",
     "level": 2,
     "metadata": {},
     "source": "Example 6, Page number 132"
    },
    {
     "cell_type": "code",
     "collapsed": false,
     "input": "#To determine critical current for a wire\n\n#importing modules\nimport math\nfrom __future__ import division\n\n#Variable declaration\nd=3*(10**-3);        #diameter of wire in m\nr=d/2;\nTc=8;          #critical temperature in K\nH0=5*(10**4);      #magnetic field in A/m\nT=5;              #temperature in K\n\n#Calculation\nA=1-((T/Tc)**2);\nHc=H0*A;\t    #magnitude\nIc=2*math.pi*r*Hc;\t#critical current\nIc=math.ceil(Ic*100)/100   #rounding off to 2 decimals\n\n#Result\nprint(\"magnitude is\",round(Hc),\"A/m\");\nprint(\"critical current is\",Ic,\"Amp\");\n\n#answers for both the bits given in the book is wrong\n",
     "language": "python",
     "metadata": {},
     "outputs": [
      {
       "output_type": "stream",
       "stream": "stdout",
       "text": "('magnitude is', 30469.0, 'A/m')\n('critical current is', 287.17, 'Amp')\n"
      }
     ],
     "prompt_number": 6
    },
    {
     "cell_type": "heading",
     "level": 2,
     "metadata": {},
     "source": "Example 7, Page number 132"
    },
    {
     "cell_type": "code",
     "collapsed": false,
     "input": "#To determine critical temperature\n\n#importing modules\nimport math\n\n#Variable declaration\nM1=199.5;          #isotopic mass in a.m.u\nM2=203.4;          #isotopic mass in a.m.u\nTc1=4.185;         #first critical temperature\n\n#Calculation\nTc2=Tc1*math.sqrt(M1/M2); \t#critical temperature\nTc2=math.ceil(Tc2*1000)/1000   #rounding off to 3 decimals\n\n#Result\nprint(\"critical temperature is\",Tc2,\"K\");\n",
     "language": "python",
     "metadata": {},
     "outputs": [
      {
       "output_type": "stream",
       "stream": "stdout",
       "text": "('critical temperature is', 4.145, 'K')\n"
      }
     ],
     "prompt_number": 7
    },
    {
     "cell_type": "heading",
     "level": 2,
     "metadata": {},
     "source": "Example 8, Page number 133"
    },
    {
     "cell_type": "code",
     "collapsed": false,
     "input": "#To determine generating EM waves frequency\n\n#importing modules\nimport math\n\n#Variable declaration\nV=8.50*(10**-6);         #voltage of Josephson junction in V\ne=1.6*(10**-19);         #charge of electron in C\nh=6.626*(10**-24);       #plank constant\n\n#Calculation\nnew=(2*e*V)/h;\t\t#EM waves frequency\nnew=math.ceil(new*100)/100   #rounding off to 2 decimals\n\n#Result\nprint(\"EM waves frequency is\",new,\"Hz\");\n\n#answer in book is wrong",
     "language": "python",
     "metadata": {},
     "outputs": [
      {
       "output_type": "stream",
       "stream": "stdout",
       "text": "('EM waves frequency is', 0.42, 'Hz')\n"
      }
     ],
     "prompt_number": 10
    },
    {
     "cell_type": "heading",
     "level": 2,
     "metadata": {},
     "source": "Example 9, Page number 133"
    },
    {
     "cell_type": "code",
     "collapsed": false,
     "input": "#To determine critical temperature\n\n#Variable declaration\nTc1=5;          #first critical temperature in K\nP1=1;           #first pressure in mm\nP2=6;           #second pressure in mm\n\n#Calculation\nTc2=Tc1*(P2/P1);      #critical temperature\n\n#Result\nprint(\"critical temperature is\",round(Tc2),\"K\");\n",
     "language": "python",
     "metadata": {},
     "outputs": [
      {
       "output_type": "stream",
       "stream": "stdout",
       "text": "('critical temperature is', 30.0, 'K')\n"
      }
     ],
     "prompt_number": 11
    },
    {
     "cell_type": "heading",
     "level": 2,
     "metadata": {},
     "source": "Example 10, Page number 133"
    },
    {
     "cell_type": "code",
     "collapsed": false,
     "input": "#To determine the maximum critical temperature\n\n#importing modules\nimport math\nfrom __future__ import division\n\n#Variable declaration\nTc=8.7;         #first critical temperature in K\nHc=6*(10**5);        #critical magnetic field in A/m at Tc\nH0=3*(10**6);        #critical magnetic field in A/m at 0K\n\n#Calculation\nA=1-(Hc/H0);\nT=Tc*math.sqrt(A);\t#maximum critical temperature\nT=math.ceil(T*1000)/1000   #rounding off to 3 decimals\n\n#Result\nprint(\"maximum critical temperature is\",T,\"K\");\n",
     "language": "python",
     "metadata": {},
     "outputs": [
      {
       "output_type": "stream",
       "stream": "stdout",
       "text": "('maximum critical temperature is', 7.782, 'K')\n"
      }
     ],
     "prompt_number": 12
    },
    {
     "cell_type": "code",
     "collapsed": false,
     "input": "",
     "language": "python",
     "metadata": {},
     "outputs": []
    }
   ],
   "metadata": {}
  }
 ]
}