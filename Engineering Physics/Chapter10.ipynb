{
 "metadata": {
  "name": "Chapter10"
 },
 "nbformat": 2,
 "nbformat_minor": 0,
 "worksheets": [
  {
   "cells": [
    {
     "cell_type": "heading",
     "level": 1,
     "metadata": {},
     "source": "Thermal Properties"
    },
    {
     "cell_type": "heading",
     "level": 2,
     "metadata": {},
     "source": "Example number 1, Page number 282"
    },
    {
     "cell_type": "code",
     "collapsed": false,
     "input": "#To determine the specific heat per Kmol and highest lattice frequency\n\n#importing modules\nimport math\n\n#Variable declaration\nT=20;         #specific heat\nTd=1850;          #numerical temperature\nK=1.38*(10**-23);\nN=6.02*(10**26);\nh=6.626*(10**-34);\n\n\n#Calculation\nR=K*N;\na=math.pi**4;\nb=12*a*R*(T**3);\nCv=b/(5*(Td**3));\t#specific heat\nVd=(K*Td)/h;\t\t#highest lattice frquency\nCv=math.ceil(Cv*1000)/1000   #rounding off to 3 decimals\n\n#Result\nprint(\"specific heat is\",Cv,\"Joule/kmol-k\");\nprint(\"highest lattice frquency is\",round(Vd),\"sec -1\");\n",
     "language": "python",
     "metadata": {},
     "outputs": [
      {
       "output_type": "stream",
       "stream": "stdout",
       "text": "('specific heat is', 2.454, 'Joule/kmol-k')\n('highest lattice frquency is', 38530033202535.0, 'sec -1')\n"
      }
     ],
     "prompt_number": 1
    },
    {
     "cell_type": "heading",
     "level": 2,
     "metadata": {},
     "source": "Example number 2, Page number 282\n"
    },
    {
     "cell_type": "code",
     "collapsed": false,
     "input": "#To estimate the heat required to raise the temperature\n\n#importing modules\nimport math\nfrom scipy.integrate import quad\n\n#Variable declaration\nm=2;\t\t#mass in k mol\nTD=281;\t\t#debye's temperature in K\nR=8.3*10**3;\n\n#Calculation\nA=math.pi**4\ndef intg(T):\n\treturn m*12*A*(R/5)*((T/TD)**3)\n\nS=quad(intg,10,50)[0]\n\n#Result\nprint(\"the heat required in Joule is\",round(S));\n",
     "language": "python",
     "metadata": {},
     "outputs": [
      {
       "output_type": "stream",
       "stream": "stdout",
       "text": "('the heat required in Joule is', 272850.0)\n"
      }
     ],
     "prompt_number": 2
    },
    {
     "cell_type": "heading",
     "level": 2,
     "metadata": {},
     "source": "Example number 3, Page number 283\n"
    },
    {
     "cell_type": "code",
     "collapsed": false,
     "input": "#To compute the lattice specific heat and estimate the electronic specific heat\n\n#importing modules\nimport math\n\n#Variable declaration\nT=300;          #specific heat at constant volume\nTd=418;         #debye temperature\nEf=11.7;        #fermi energy in ev\nR=1.99;\nk=5.796*(10**-23);         #boltzmann constant in cal/k\n\n#Calculation\np1=(math.pi)**4;\nCv=(12*p1*R*(T**3))/(5*(Td**3));\t#vibrational specific heat\nEf=Ef*4.2*1.6*(10**-19);      #converting from eV to cal\nTf=Ef/k;\np2=(math.pi)**2;\nCe=(p2*R*T)/(2*Tf);\t#electronic specific heat\nCv=math.ceil(Cv*100)/100   #rounding off to 2 decimals\nCe=math.ceil(Ce*1000)/1000   #rounding off to 3 decimals\n\n#Result\nprint(\"vibrational specific heat is\",Cv,\"cal/mol-k\");\nprint(\"electronic specific heat is\",Ce,\"cal/mol-k\");\n\n#answers for both the values given in the book is wrong\n",
     "language": "python",
     "metadata": {},
     "outputs": [
      {
       "output_type": "stream",
       "stream": "stdout",
       "text": "('vibrational specific heat is', 171.99, 'cal/mol-k')\n('electronic specific heat is', 0.022, 'cal/mol-k')\n"
      }
     ],
     "prompt_number": 6
    },
    {
     "cell_type": "heading",
     "level": 2,
     "metadata": {},
     "source": "Example number 4, Page number 283\n"
    },
    {
     "cell_type": "code",
     "collapsed": false,
     "input": "#To estimate the lattice heat capacity\n\n#importing modules\nimport math\nfrom __future__ import division\n\n#Variable declaration\nTd1s1=300;       #debye temperature of s1\nTd2s2=250;       #debye temperature of s2\nCvs15=0.05;         #heat capacity of s1 at 5k\n\n#Calculation\nCvs2=Cvs15*(Td1s1/Td2s2)**3;   #lattice heat capacity of s2\nCvs12=Cvs15*(2/5)**3;   #lattice heat capacity of s1\nCvs2=math.ceil(Cvs2*1000)/1000   #rounding off to 3 decimals\nCvs12=math.ceil(Cvs12*10000)/10000   #rounding off to 4 decimals\n\n#Result\nprint(\"lattice heat capacity of s2 is\",Cvs2,\"J/mol-k\");\nprint(\"lattice heat capacity of s1 at 2k is\",Cvs12,\"J/mol-k\");\n",
     "language": "python",
     "metadata": {},
     "outputs": [
      {
       "output_type": "stream",
       "stream": "stdout",
       "text": "('lattice heat capacity of s2 is', 0.087, 'J/mol-k')\n('lattice heat capacity of s1 at 2k is', 0.0033, 'J/mol-k')\n"
      }
     ],
     "prompt_number": 8
    },
    {
     "cell_type": "code",
     "collapsed": false,
     "input": "",
     "language": "python",
     "metadata": {},
     "outputs": []
    }
   ],
   "metadata": {}
  }
 ]
}