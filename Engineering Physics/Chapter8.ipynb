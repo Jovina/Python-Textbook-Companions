{
 "metadata": {
  "name": "Chapter8"
 },
 "nbformat": 2,
 "nbformat_minor": 0,
 "worksheets": [
  {
   "cells": [
    {
     "cell_type": "heading",
     "level": 1,
     "metadata": {},
     "source": "Fibre optics and holography"
    },
    {
     "cell_type": "heading",
     "level": 2,
     "metadata": {},
     "source": "Example number 1, Page number 221"
    },
    {
     "cell_type": "code",
     "collapsed": false,
     "input": "#To calculate refractive index of material of the core\n\n#importing modules\nimport math\n\n#Variable declaration\nNA=0.39;        #numerical aperture\ndelta=0.05;     #fractional index change\n\n#Calculation\nA=math.sqrt(2*delta);\nn1=NA/A;\t#refractive index\nn1=math.ceil(n1*1000)/1000   #rounding off to 3 decimals\n\n#Result\nprint(\"refractive index of the core is \",n1);\n",
     "language": "python",
     "metadata": {},
     "outputs": [
      {
       "output_type": "stream",
       "stream": "stdout",
       "text": "('refractive index of the core is ', 1.234)\n"
      }
     ],
     "prompt_number": 1
    },
    {
     "cell_type": "heading",
     "level": 2,
     "metadata": {},
     "source": "Example number 2, Page number 221"
    },
    {
     "cell_type": "code",
     "collapsed": false,
     "input": "#To calculate the fractional index change\n\n#importing modules\nimport math\n\n#Variable declaration\nn1=1.563;          #core refractive index\nn2=1.498;          #cladding refractive index\n\n#Calculation\ndelta=(n1-n2)/n1;\t#fractional index change\ndelta=math.ceil(delta*1000)/1000   #rounding off to 3 decimals\n\n#Result\nprint(\"fractional index change is \",delta);\n",
     "language": "python",
     "metadata": {},
     "outputs": [
      {
       "output_type": "stream",
       "stream": "stdout",
       "text": "('fractional index change is ', 0.042)\n"
      }
     ],
     "prompt_number": 3
    },
    {
     "cell_type": "heading",
     "level": 2,
     "metadata": {},
     "source": "Example number 3, Page number 221"
    },
    {
     "cell_type": "code",
     "collapsed": false,
     "input": "#To calculate numerical aperture\n\n#importing modules\nimport math\n\n#Variable declaration\nn1=1.55;         #refractive index of core\nn2=1.50;         #refractive index of cladding\nn0=1;\n\n#Calculation\nNA=math.sqrt(n1**2-n2**2)/n0;\t#numerical aperture\nNA=math.ceil(NA*1000)/1000   #rounding off to 3 decimals\n\n#Result\nprint(\"numerical aperture is \",NA);\n",
     "language": "python",
     "metadata": {},
     "outputs": [
      {
       "output_type": "stream",
       "stream": "stdout",
       "text": "('numerical aperture is ', 0.391)\n"
      }
     ],
     "prompt_number": 4
    },
    {
     "cell_type": "heading",
     "level": 2,
     "metadata": {},
     "source": "Example number 4, Page number 222"
    },
    {
     "cell_type": "code",
     "collapsed": false,
     "input": "#To calculate angle of acceptance\n\n#importing modules\nimport math\n\n#Variable declaration\nn1=1.563;         #refractive index of core\nn2=1.498;         #refractive index of cladding\n\n#Calculation\nNA=math.sqrt(n1**2-n2**2);\ntheta0=math.asin(NA);   #gives the value of theta0 in radians\ntheta0=theta0*57.2957795;  #converting radians to degrees\ntheta0=math.ceil(theta0*1000)/1000   #rounding off to 3 decimals\n\n#Result\nprint(\"angle of acceptance is\",theta0,\"degrees\");\n",
     "language": "python",
     "metadata": {},
     "outputs": [
      {
       "output_type": "stream",
       "stream": "stdout",
       "text": "('angle of acceptance is', 26.491, 'degrees')\n"
      }
     ],
     "prompt_number": 5
    },
    {
     "cell_type": "heading",
     "level": 2,
     "metadata": {},
     "source": "Example number 5, Page number 222"
    },
    {
     "cell_type": "code",
     "collapsed": false,
     "input": "#To calculate critical angle\n\n#importing modules\nimport math\n\n#Variable declaration\nn1=1.53;         #refractive index of core\nn2=1.42;         #refractive index of cladding\n\n#Calculation\nthetac=math.asin(n2/n1);   #gives the value of thetac in radians\nthetac=thetac*57.2957795;  #converting radians to degrees\nthetac=math.ceil(thetac*1000)/1000   #rounding off to 3 decimals\n\n#Result\nprint(\"critical angle is\",thetac,\"degrees\");\n",
     "language": "python",
     "metadata": {},
     "outputs": [
      {
       "output_type": "stream",
       "stream": "stdout",
       "text": "('critical angle is', 68.142, 'degrees')\n"
      }
     ],
     "prompt_number": 6
    },
    {
     "cell_type": "heading",
     "level": 2,
     "metadata": {},
     "source": "Example number 6, Page number 222"
    },
    {
     "cell_type": "code",
     "collapsed": false,
     "input": "#To calculate numerical aperture and acceptance angle\n\n#importing modules\nimport math\n\n#Variable declaration\nn1=1.6;        #refractive index of core\nn2=1.4;        #refractive index of cladding\nn0=1.33;       #water refractive index\n\n#Calculation\nNA=math.sqrt(n1**2-n2**2)/n0;   #numerical aperture\ntheta0=math.asin(NA);        #gives the value of theta0 in radians\ntheta0=theta0*57.2957795;    #converting radians to degrees\ntheta0=math.ceil(theta0*10000)/10000   #rounding off to 4 decimals\nNA=math.ceil(NA*1000)/1000   #rounding off to 3 decimals\n\n#Result\nprint(\"numerical aperture is \",NA);\nprint(\"acceptance angle is\",theta0,\"degrees\");\n",
     "language": "python",
     "metadata": {},
     "outputs": [
      {
       "output_type": "stream",
       "stream": "stdout",
       "text": "('numerical aperture is ', 0.583)\n('acceptance angle is', 35.6198, 'degrees')\n"
      }
     ],
     "prompt_number": 11
    },
    {
     "cell_type": "heading",
     "level": 2,
     "metadata": {},
     "source": "Example number 7, Page number 223"
    },
    {
     "cell_type": "code",
     "collapsed": false,
     "input": "#To calculate fractional index change\n\n#importing modules\nimport math\n\n#Variable declaration\nn1=1.5;          #core refractive index\nn2=1.3;          #cladding refractive index\n\n#Calculation\ndelta=(n1-n2)/n1;    #fractional index change\ndelta=math.ceil(delta*1000)/1000   #rounding off to 3 decimals\n\n#Result\nprint(\"fractional index change is \",delta);\n",
     "language": "python",
     "metadata": {},
     "outputs": [
      {
       "output_type": "stream",
       "stream": "stdout",
       "text": "('fractional index change is ', 0.134)\n"
      }
     ],
     "prompt_number": 13
    },
    {
     "cell_type": "heading",
     "level": 2,
     "metadata": {},
     "source": "Example number 8, Page number 223"
    },
    {
     "cell_type": "code",
     "collapsed": false,
     "input": "#To calculate angle of refraction at the interface\n\n#importing modules\nimport math\n\n#Variable declaration\nn1=1.6;          #refractive index of medium\nn2=1.55;         #refractive index of core\ntheta1=math.pi/3;       #angle of incidence in degrees\n\n#Calculation\nA=math.sin(theta1);\ntheta2=math.asin(n1*A/n2);   #gives the value of theta0 in radians\ntheta2=theta2*57.2957795;  #converting radians to degrees\ntheta2=math.ceil(theta2*100)/100   #rounding off to 2 decimals\n\n#Result\nprint(\"angle of refraction is\",theta2,\"degrees\");\n\n#answer in book is wrong\n",
     "language": "python",
     "metadata": {},
     "outputs": [
      {
       "output_type": "stream",
       "stream": "stdout",
       "text": "('angle of refraction is', 63.38, 'degrees')\n"
      }
     ],
     "prompt_number": 15
    },
    {
     "cell_type": "heading",
     "level": 2,
     "metadata": {},
     "source": "Example number 9, Page number 224"
    },
    {
     "cell_type": "code",
     "collapsed": false,
     "input": "#To calculate refrative index of core\n\n#importing modules\nimport math\n\n#Variable declaration\ndelta=0.14;          #fractional index change\nn2=1.3;              #refractive index of cladding\n\n#Calculation\nn1=n2/(1-delta);     #refractive index\nn1=math.ceil(n1*1000)/1000   #rounding off to 3 decimals\n\n#Result\nprint(\"refractive index of core is \",n1);\n",
     "language": "python",
     "metadata": {},
     "outputs": [
      {
       "output_type": "stream",
       "stream": "stdout",
       "text": "('refractive index of core is ', 1.512)\n"
      }
     ],
     "prompt_number": 16
    },
    {
     "cell_type": "heading",
     "level": 2,
     "metadata": {},
     "source": "Example number 10, Page number 224"
    },
    {
     "cell_type": "code",
     "collapsed": false,
     "input": "#To calculate numerical aperture\n\n#importing modules\nimport math\n\n#Variable declaration\ntheta0=26.80;          #acceptance angle in degrees\ntheta0=theta0/57.2957795;  #converting degrees to radians\n\n#Calculation\nNA=math.sin(theta0);\t#numerical aperture\nNA=math.ceil(NA*1000)/1000   #rounding off to 3 decimals\n\n#Result\nprint(\"numerical aperture is \",NA);\n",
     "language": "python",
     "metadata": {},
     "outputs": [
      {
       "output_type": "stream",
       "stream": "stdout",
       "text": "('numerical aperture is ', 0.451)\n"
      }
     ],
     "prompt_number": 18
    },
    {
     "cell_type": "code",
     "collapsed": false,
     "input": "",
     "language": "python",
     "metadata": {},
     "outputs": []
    }
   ],
   "metadata": {}
  }
 ]
}